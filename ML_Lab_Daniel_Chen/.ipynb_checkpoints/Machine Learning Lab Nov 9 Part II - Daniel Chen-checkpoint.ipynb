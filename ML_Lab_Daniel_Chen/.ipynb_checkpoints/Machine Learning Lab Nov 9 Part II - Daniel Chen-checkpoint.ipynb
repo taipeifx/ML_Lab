{
 "cells": [
  {
   "cell_type": "code",
   "execution_count": 17,
   "metadata": {},
   "outputs": [],
   "source": [
    "#up to date \n",
    "import pandas as pd\n",
    "order = pd.read_csv(\".\\data\\Orders.csv\")\n",
    "returns = pd.read_csv(\".\\data\\Returns.csv\")\n",
    "import re\n",
    "order['Profit'] = order['Profit'].apply(lambda x: re.sub('[$]', '', x)) #remove $ signs\n",
    "order['Sales'] = order['Sales'].apply(lambda x: re.sub('[$]', '', x)) #remove $ signs\n",
    "order['Profit'] = order['Profit'].apply(lambda x: re.sub('[,]', '', x)) #remove , signs\n",
    "order['Sales'] = order['Sales'].apply(lambda x: re.sub('[,]', '', x)) #remove , signs\n",
    "order['Profit'] = pd.to_numeric(order['Profit'])\n",
    "order['Sales'] = pd.to_numeric(order['Sales'])\n",
    "order[\"Order.Date\"] = pd.to_datetime(order[\"Order.Date\"])\n",
    "order[\"Ship.Date\"] = pd.to_datetime(order[\"Ship.Date\"])\n",
    "\n",
    "merged = order.merge(returns, how='outer', left_on= \"Order.ID\", right_on=\"Order ID\")\n",
    "merged['Returned'] = ['No' if ans != 'Yes' else 'Yes' for ans in merged['Returned']] #NAN -> no\n",
    "merged['Returned'] = merged['Returned'].astype('category')\n",
    "\n",
    "merged['Process.Time'] = merged['Ship.Date'] - merged['Order.Date']\n",
    "merged['Process.Time'] = merged['Process.Time'].dt.days #removes 'days'"
   ]
  },
  {
   "cell_type": "code",
   "execution_count": 18,
   "metadata": {},
   "outputs": [
    {
     "data": {
      "text/plain": [
       "Product.ID   Process.Time  Returned\n",
       "FUR-BO-3174  2             No          1\n",
       "             6             No          1\n",
       "FUR-BO-3175  0             No          1\n",
       "             2             No          3\n",
       "             4             No          3\n",
       "Name: Product.ID, dtype: int64"
      ]
     },
     "execution_count": 18,
     "metadata": {},
     "output_type": "execute_result"
    }
   ],
   "source": [
    "returned_orders = merged.groupby(['Product.ID', 'Process.Time', 'Returned'])['Product.ID'].count()\n",
    "returned_orders.head()"
   ]
  },
  {
   "cell_type": "code",
   "execution_count": 9,
   "metadata": {},
   "outputs": [
    {
     "data": {
      "text/plain": [
       "Index(['Row.ID', 'Order.ID', 'Order.Date', 'Ship.Date', 'Ship.Mode',\n",
       "       'Customer.ID', 'Customer.Name', 'Segment', 'Postal.Code', 'City',\n",
       "       'State', 'Country', 'Region_x', 'Market', 'Product.ID', 'Category',\n",
       "       'Sub.Category', 'Product.Name', 'Sales', 'Quantity', 'Discount',\n",
       "       'Profit', 'Shipping.Cost', 'Order.Priority', 'Returned', 'Order ID',\n",
       "       'Region_y', 'Process.Time'],\n",
       "      dtype='object')"
      ]
     },
     "execution_count": 9,
     "metadata": {},
     "output_type": "execute_result"
    }
   ],
   "source": [
    "merged.columns"
   ]
  },
  {
   "cell_type": "code",
   "execution_count": 16,
   "metadata": {
    "scrolled": true
   },
   "outputs": [
    {
     "data": {
      "text/html": [
       "<div>\n",
       "<style scoped>\n",
       "    .dataframe tbody tr th:only-of-type {\n",
       "        vertical-align: middle;\n",
       "    }\n",
       "\n",
       "    .dataframe tbody tr th {\n",
       "        vertical-align: top;\n",
       "    }\n",
       "\n",
       "    .dataframe thead th {\n",
       "        text-align: right;\n",
       "    }\n",
       "</style>\n",
       "<table border=\"1\" class=\"dataframe\">\n",
       "  <thead>\n",
       "    <tr style=\"text-align: right;\">\n",
       "      <th></th>\n",
       "      <th>Order.Date</th>\n",
       "      <th>Ship.Date</th>\n",
       "      <th>Ship.Mode</th>\n",
       "      <th>Segment</th>\n",
       "      <th>Postal.Code</th>\n",
       "      <th>City</th>\n",
       "      <th>State</th>\n",
       "      <th>Country</th>\n",
       "      <th>Region_x</th>\n",
       "      <th>Market</th>\n",
       "      <th>Category</th>\n",
       "      <th>Sub.Category</th>\n",
       "      <th>Sales</th>\n",
       "      <th>Quantity</th>\n",
       "      <th>Discount</th>\n",
       "      <th>Profit</th>\n",
       "      <th>Shipping.Cost</th>\n",
       "      <th>Order.Priority</th>\n",
       "      <th>Returned</th>\n",
       "      <th>Process.Time</th>\n",
       "    </tr>\n",
       "  </thead>\n",
       "  <tbody>\n",
       "    <tr>\n",
       "      <th>0</th>\n",
       "      <td>2014-11-11</td>\n",
       "      <td>2014-11-13</td>\n",
       "      <td>First Class</td>\n",
       "      <td>Consumer</td>\n",
       "      <td>73120.0</td>\n",
       "      <td>Oklahoma City</td>\n",
       "      <td>Oklahoma</td>\n",
       "      <td>United States</td>\n",
       "      <td>Central US</td>\n",
       "      <td>USCA</td>\n",
       "      <td>Technology</td>\n",
       "      <td>Phones</td>\n",
       "      <td>221.98</td>\n",
       "      <td>2</td>\n",
       "      <td>0.0</td>\n",
       "      <td>62.15</td>\n",
       "      <td>40.77</td>\n",
       "      <td>High</td>\n",
       "      <td>No</td>\n",
       "      <td>2 days</td>\n",
       "    </tr>\n",
       "    <tr>\n",
       "      <th>1</th>\n",
       "      <td>2014-11-11</td>\n",
       "      <td>2014-11-13</td>\n",
       "      <td>First Class</td>\n",
       "      <td>Consumer</td>\n",
       "      <td>73120.0</td>\n",
       "      <td>Oklahoma City</td>\n",
       "      <td>Oklahoma</td>\n",
       "      <td>United States</td>\n",
       "      <td>Central US</td>\n",
       "      <td>USCA</td>\n",
       "      <td>Furniture</td>\n",
       "      <td>Bookcases</td>\n",
       "      <td>341.96</td>\n",
       "      <td>2</td>\n",
       "      <td>0.0</td>\n",
       "      <td>54.71</td>\n",
       "      <td>25.27</td>\n",
       "      <td>High</td>\n",
       "      <td>No</td>\n",
       "      <td>2 days</td>\n",
       "    </tr>\n",
       "    <tr>\n",
       "      <th>2</th>\n",
       "      <td>2014-02-05</td>\n",
       "      <td>2014-02-07</td>\n",
       "      <td>Second Class</td>\n",
       "      <td>Corporate</td>\n",
       "      <td>NaN</td>\n",
       "      <td>Wollongong</td>\n",
       "      <td>New South Wales</td>\n",
       "      <td>Australia</td>\n",
       "      <td>Oceania</td>\n",
       "      <td>Asia Pacific</td>\n",
       "      <td>Furniture</td>\n",
       "      <td>Chairs</td>\n",
       "      <td>3709.40</td>\n",
       "      <td>9</td>\n",
       "      <td>0.1</td>\n",
       "      <td>-288.77</td>\n",
       "      <td>923.63</td>\n",
       "      <td>Critical</td>\n",
       "      <td>No</td>\n",
       "      <td>2 days</td>\n",
       "    </tr>\n",
       "    <tr>\n",
       "      <th>3</th>\n",
       "      <td>2014-02-05</td>\n",
       "      <td>2014-02-07</td>\n",
       "      <td>Second Class</td>\n",
       "      <td>Corporate</td>\n",
       "      <td>NaN</td>\n",
       "      <td>Wollongong</td>\n",
       "      <td>New South Wales</td>\n",
       "      <td>Australia</td>\n",
       "      <td>Oceania</td>\n",
       "      <td>Asia Pacific</td>\n",
       "      <td>Technology</td>\n",
       "      <td>Copiers</td>\n",
       "      <td>344.68</td>\n",
       "      <td>2</td>\n",
       "      <td>0.1</td>\n",
       "      <td>34.42</td>\n",
       "      <td>65.35</td>\n",
       "      <td>Critical</td>\n",
       "      <td>No</td>\n",
       "      <td>2 days</td>\n",
       "    </tr>\n",
       "    <tr>\n",
       "      <th>4</th>\n",
       "      <td>2014-02-05</td>\n",
       "      <td>2014-02-07</td>\n",
       "      <td>Second Class</td>\n",
       "      <td>Corporate</td>\n",
       "      <td>NaN</td>\n",
       "      <td>Wollongong</td>\n",
       "      <td>New South Wales</td>\n",
       "      <td>Australia</td>\n",
       "      <td>Oceania</td>\n",
       "      <td>Asia Pacific</td>\n",
       "      <td>Office Supplies</td>\n",
       "      <td>Storage</td>\n",
       "      <td>133.92</td>\n",
       "      <td>5</td>\n",
       "      <td>0.1</td>\n",
       "      <td>-6.03</td>\n",
       "      <td>41.64</td>\n",
       "      <td>Critical</td>\n",
       "      <td>No</td>\n",
       "      <td>2 days</td>\n",
       "    </tr>\n",
       "  </tbody>\n",
       "</table>\n",
       "</div>"
      ],
      "text/plain": [
       "  Order.Date  Ship.Date     Ship.Mode    Segment  Postal.Code           City  \\\n",
       "0 2014-11-11 2014-11-13   First Class   Consumer      73120.0  Oklahoma City   \n",
       "1 2014-11-11 2014-11-13   First Class   Consumer      73120.0  Oklahoma City   \n",
       "2 2014-02-05 2014-02-07  Second Class  Corporate          NaN     Wollongong   \n",
       "3 2014-02-05 2014-02-07  Second Class  Corporate          NaN     Wollongong   \n",
       "4 2014-02-05 2014-02-07  Second Class  Corporate          NaN     Wollongong   \n",
       "\n",
       "             State        Country    Region_x        Market         Category  \\\n",
       "0         Oklahoma  United States  Central US          USCA       Technology   \n",
       "1         Oklahoma  United States  Central US          USCA        Furniture   \n",
       "2  New South Wales      Australia     Oceania  Asia Pacific        Furniture   \n",
       "3  New South Wales      Australia     Oceania  Asia Pacific       Technology   \n",
       "4  New South Wales      Australia     Oceania  Asia Pacific  Office Supplies   \n",
       "\n",
       "  Sub.Category    Sales  Quantity  Discount  Profit  Shipping.Cost  \\\n",
       "0       Phones   221.98         2       0.0   62.15          40.77   \n",
       "1    Bookcases   341.96         2       0.0   54.71          25.27   \n",
       "2       Chairs  3709.40         9       0.1 -288.77         923.63   \n",
       "3      Copiers   344.68         2       0.1   34.42          65.35   \n",
       "4      Storage   133.92         5       0.1   -6.03          41.64   \n",
       "\n",
       "  Order.Priority Returned Process.Time  \n",
       "0           High       No       2 days  \n",
       "1           High       No       2 days  \n",
       "2       Critical       No       2 days  \n",
       "3       Critical       No       2 days  \n",
       "4       Critical       No       2 days  "
      ]
     },
     "execution_count": 16,
     "metadata": {},
     "output_type": "execute_result"
    }
   ],
   "source": [
    "final = merged.drop(columns=['Row.ID', 'Order.ID', 'Customer.ID', 'Customer.Name', 'Product.ID', 'Order ID', 'Region_y', 'Product.Name'])\n",
    "final.head()"
   ]
  },
  {
   "cell_type": "code",
   "execution_count": 15,
   "metadata": {},
   "outputs": [
    {
     "name": "stdout",
     "output_type": "stream",
     "text": [
      "Index(['Ship.Mode', 'Segment', 'City', 'State', 'Country', 'Region_x',\n",
      "       'Market', 'Category', 'Sub.Category', 'Product.Name', 'Order.Priority'],\n",
      "      dtype='object')\n",
      "Index(['Order.Date', 'Ship.Date', 'Postal.Code', 'Sales', 'Quantity',\n",
      "       'Discount', 'Profit', 'Shipping.Cost', 'Returned', 'Process.Time'],\n",
      "      dtype='object')\n"
     ]
    }
   ],
   "source": [
    "# Differentiate numerical features (minus the target) and categorical features\n",
    "categorical_features = final.select_dtypes(include = [\"object\"]).columns\n",
    "numerical_features = final.select_dtypes(exclude = [\"object\"]).columns\n",
    "\n",
    "#numerical_features = numerical_features.drop(\"SalePrice\")\n",
    "#print(\"Numerical features : \" + str(len(numerical_features)))\n",
    "#print(\"Categorical features : \" + str(len(categorical_features)))\n",
    "#train_num = train[numerical_features]\n",
    "#train_cat = train[categorical_features]\n",
    "print(categorical_features)\n",
    "\n",
    "print(numerical_features)"
   ]
  },
  {
   "cell_type": "code",
   "execution_count": null,
   "metadata": {},
   "outputs": [],
   "source": [
    "### Problem 5: Fitting Models\n",
    "- You can use any binary classification method you have learned so far.\n",
    "- Use 80/20 training and test splits to build your model. \n",
    "- Double check the column types before you fit the model.\n",
    "- Only include useful features. i.e all the `ID`s should be excluded from your training set.\n",
    "- Not that there are only less than 5% of the orders have been returned, so you should consider using the `createDataPartition` \n",
    "function from `caret` package that does a **stratified** random split of the data. Scikit-learn also has a [StratifiedKfold]\n",
    "(http://scikit-learn.org/stable/modules/generated/sklearn.model_selection.StratifiedKFold.html#sklearn-model-selection-stratifiedkfold) \n",
    " #function that does similar thing.\n",
    "- Do forget to `set.seed()` before the spilt to make your result reproducible.\n",
    "- **Note:** We are not looking for the best tuned model in the lab so dont spend too much time on grid search. Focus on model \n",
    " evaluation and the business use case of each model."
   ]
  },
  {
   "cell_type": "code",
   "execution_count": null,
   "metadata": {},
   "outputs": [],
   "source": []
  },
  {
   "cell_type": "code",
   "execution_count": null,
   "metadata": {},
   "outputs": [],
   "source": []
  },
  {
   "cell_type": "code",
   "execution_count": null,
   "metadata": {},
   "outputs": [],
   "source": []
  },
  {
   "cell_type": "code",
   "execution_count": null,
   "metadata": {},
   "outputs": [],
   "source": [
    "### Problem 6: Evaluating Models\n",
    "- What is the best metric to evaluate your model. Is accuracy good for this case?\n",
    "- Now you have multiple models, which one would you pick? \n",
    "- Can you get any clue from the confusion matrix? What is the meaning of precision and recall in this case? Which one do you care \n",
    " the most? How will your model help the manager make decisions?\n",
    "- **Note:** The last question is open-ended. Your answer could be completely different depending on your understanding of this business \n",
    " problem."
   ]
  },
  {
   "cell_type": "code",
   "execution_count": null,
   "metadata": {},
   "outputs": [],
   "source": []
  },
  {
   "cell_type": "code",
   "execution_count": null,
   "metadata": {},
   "outputs": [],
   "source": []
  },
  {
   "cell_type": "code",
   "execution_count": null,
   "metadata": {},
   "outputs": [],
   "source": []
  },
  {
   "cell_type": "code",
   "execution_count": null,
   "metadata": {},
   "outputs": [],
   "source": [
    "### Problem 7: Feature Engineering Revisit\n",
    "- Is there anything wrong with the new feature we generated? How should we fix it?\n",
    "- ***Hint***: For the real test set, we do not know it will get returned or not."
   ]
  },
  {
   "cell_type": "code",
   "execution_count": null,
   "metadata": {},
   "outputs": [],
   "source": []
  },
  {
   "cell_type": "code",
   "execution_count": null,
   "metadata": {},
   "outputs": [],
   "source": []
  },
  {
   "cell_type": "code",
   "execution_count": null,
   "metadata": {},
   "outputs": [],
   "source": []
  }
 ],
 "metadata": {
  "kernelspec": {
   "display_name": "Python 3",
   "language": "python",
   "name": "python3"
  },
  "language_info": {
   "codemirror_mode": {
    "name": "ipython",
    "version": 3
   },
   "file_extension": ".py",
   "mimetype": "text/x-python",
   "name": "python",
   "nbconvert_exporter": "python",
   "pygments_lexer": "ipython3",
   "version": "3.7.0"
  }
 },
 "nbformat": 4,
 "nbformat_minor": 2
}
