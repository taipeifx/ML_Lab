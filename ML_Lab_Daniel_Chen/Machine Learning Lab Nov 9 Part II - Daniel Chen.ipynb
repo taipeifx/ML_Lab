{
 "cells": [
  {
   "cell_type": "code",
   "execution_count": 28,
   "metadata": {},
   "outputs": [],
   "source": [
    "#up to date \n",
    "import pandas as pd\n",
    "order = pd.read_csv(\".\\data\\Orders.csv\")\n",
    "returns = pd.read_csv(\".\\data\\Returns.csv\")\n",
    "import re\n",
    "order['Profit'] = order['Profit'].apply(lambda x: re.sub('[$]', '', x)) #remove $ signs\n",
    "order['Sales'] = order['Sales'].apply(lambda x: re.sub('[$]', '', x)) #remove $ signs\n",
    "order['Profit'] = order['Profit'].apply(lambda x: re.sub('[,]', '', x)) #remove , signs\n",
    "order['Sales'] = order['Sales'].apply(lambda x: re.sub('[,]', '', x)) #remove , signs\n",
    "order['Profit'] = pd.to_numeric(order['Profit'])\n",
    "order['Sales'] = pd.to_numeric(order['Sales'])\n",
    "order[\"Order.Date\"] = pd.to_datetime(order[\"Order.Date\"])\n",
    "order[\"Ship.Date\"] = pd.to_datetime(order[\"Ship.Date\"])\n",
    "\n",
    "merged = order.merge(returns, how='outer', left_on= \"Order.ID\", right_on=\"Order ID\")\n",
    "merged['Returned'] = ['No' if ans != 'Yes' else 'Yes' for ans in merged['Returned']] #NAN -> no\n",
    "merged['Returned'] = merged['Returned'].astype('category')\n",
    "\n",
    "merged['Process.Time'] = merged['Ship.Date'] - merged['Order.Date']\n",
    "merged['Process.Time'] = merged['Process.Time'].dt.days #removes 'days'\n",
    "\n",
    "merged.loc[:, \"Postal.Code\"] = merged.loc[:, \"Postal.Code\"].fillna(\"None\")\n",
    "\n",
    "merged[\"Month\"] = merged[\"Order.Date\"].dt.month"
   ]
  },
  {
   "cell_type": "code",
   "execution_count": 29,
   "metadata": {},
   "outputs": [
    {
     "data": {
      "text/plain": [
       "Product.ID   Process.Time  Returned\n",
       "FUR-BO-3174  2             No          1\n",
       "             6             No          1\n",
       "FUR-BO-3175  0             No          1\n",
       "             2             No          3\n",
       "             4             No          3\n",
       "Name: Product.ID, dtype: int64"
      ]
     },
     "execution_count": 29,
     "metadata": {},
     "output_type": "execute_result"
    }
   ],
   "source": [
    "returned_orders = merged.groupby(['Product.ID', 'Process.Time', 'Returned'])['Product.ID'].count()\n",
    "returned_orders.head()"
   ]
  },
  {
   "cell_type": "code",
   "execution_count": 30,
   "metadata": {},
   "outputs": [
    {
     "data": {
      "text/plain": [
       "Index(['Row.ID', 'Order.ID', 'Order.Date', 'Ship.Date', 'Ship.Mode',\n",
       "       'Customer.ID', 'Customer.Name', 'Segment', 'Postal.Code', 'City',\n",
       "       'State', 'Country', 'Region_x', 'Market', 'Product.ID', 'Category',\n",
       "       'Sub.Category', 'Product.Name', 'Sales', 'Quantity', 'Discount',\n",
       "       'Profit', 'Shipping.Cost', 'Order.Priority', 'Returned', 'Order ID',\n",
       "       'Region_y', 'Process.Time', 'Month'],\n",
       "      dtype='object')"
      ]
     },
     "execution_count": 30,
     "metadata": {},
     "output_type": "execute_result"
    }
   ],
   "source": [
    "merged.columns"
   ]
  },
  {
   "cell_type": "code",
   "execution_count": 46,
   "metadata": {
    "scrolled": true
   },
   "outputs": [
    {
     "data": {
      "text/html": [
       "<div>\n",
       "<style scoped>\n",
       "    .dataframe tbody tr th:only-of-type {\n",
       "        vertical-align: middle;\n",
       "    }\n",
       "\n",
       "    .dataframe tbody tr th {\n",
       "        vertical-align: top;\n",
       "    }\n",
       "\n",
       "    .dataframe thead th {\n",
       "        text-align: right;\n",
       "    }\n",
       "</style>\n",
       "<table border=\"1\" class=\"dataframe\">\n",
       "  <thead>\n",
       "    <tr style=\"text-align: right;\">\n",
       "      <th></th>\n",
       "      <th>Ship.Mode</th>\n",
       "      <th>Segment</th>\n",
       "      <th>Region_x</th>\n",
       "      <th>Category</th>\n",
       "      <th>Sub.Category</th>\n",
       "      <th>Sales</th>\n",
       "      <th>Quantity</th>\n",
       "      <th>Discount</th>\n",
       "      <th>Profit</th>\n",
       "      <th>Shipping.Cost</th>\n",
       "      <th>Order.Priority</th>\n",
       "      <th>Process.Time</th>\n",
       "      <th>Month</th>\n",
       "    </tr>\n",
       "  </thead>\n",
       "  <tbody>\n",
       "    <tr>\n",
       "      <th>0</th>\n",
       "      <td>First Class</td>\n",
       "      <td>Consumer</td>\n",
       "      <td>Central US</td>\n",
       "      <td>Technology</td>\n",
       "      <td>Phones</td>\n",
       "      <td>221.98</td>\n",
       "      <td>2</td>\n",
       "      <td>0.0</td>\n",
       "      <td>62.15</td>\n",
       "      <td>40.77</td>\n",
       "      <td>High</td>\n",
       "      <td>2</td>\n",
       "      <td>11</td>\n",
       "    </tr>\n",
       "    <tr>\n",
       "      <th>1</th>\n",
       "      <td>First Class</td>\n",
       "      <td>Consumer</td>\n",
       "      <td>Central US</td>\n",
       "      <td>Furniture</td>\n",
       "      <td>Bookcases</td>\n",
       "      <td>341.96</td>\n",
       "      <td>2</td>\n",
       "      <td>0.0</td>\n",
       "      <td>54.71</td>\n",
       "      <td>25.27</td>\n",
       "      <td>High</td>\n",
       "      <td>2</td>\n",
       "      <td>11</td>\n",
       "    </tr>\n",
       "    <tr>\n",
       "      <th>2</th>\n",
       "      <td>Second Class</td>\n",
       "      <td>Corporate</td>\n",
       "      <td>Oceania</td>\n",
       "      <td>Furniture</td>\n",
       "      <td>Chairs</td>\n",
       "      <td>3709.40</td>\n",
       "      <td>9</td>\n",
       "      <td>0.1</td>\n",
       "      <td>-288.77</td>\n",
       "      <td>923.63</td>\n",
       "      <td>Critical</td>\n",
       "      <td>2</td>\n",
       "      <td>2</td>\n",
       "    </tr>\n",
       "    <tr>\n",
       "      <th>3</th>\n",
       "      <td>Second Class</td>\n",
       "      <td>Corporate</td>\n",
       "      <td>Oceania</td>\n",
       "      <td>Technology</td>\n",
       "      <td>Copiers</td>\n",
       "      <td>344.68</td>\n",
       "      <td>2</td>\n",
       "      <td>0.1</td>\n",
       "      <td>34.42</td>\n",
       "      <td>65.35</td>\n",
       "      <td>Critical</td>\n",
       "      <td>2</td>\n",
       "      <td>2</td>\n",
       "    </tr>\n",
       "    <tr>\n",
       "      <th>4</th>\n",
       "      <td>Second Class</td>\n",
       "      <td>Corporate</td>\n",
       "      <td>Oceania</td>\n",
       "      <td>Office Supplies</td>\n",
       "      <td>Storage</td>\n",
       "      <td>133.92</td>\n",
       "      <td>5</td>\n",
       "      <td>0.1</td>\n",
       "      <td>-6.03</td>\n",
       "      <td>41.64</td>\n",
       "      <td>Critical</td>\n",
       "      <td>2</td>\n",
       "      <td>2</td>\n",
       "    </tr>\n",
       "  </tbody>\n",
       "</table>\n",
       "</div>"
      ],
      "text/plain": [
       "      Ship.Mode    Segment    Region_x         Category Sub.Category    Sales  \\\n",
       "0   First Class   Consumer  Central US       Technology       Phones   221.98   \n",
       "1   First Class   Consumer  Central US        Furniture    Bookcases   341.96   \n",
       "2  Second Class  Corporate     Oceania        Furniture       Chairs  3709.40   \n",
       "3  Second Class  Corporate     Oceania       Technology      Copiers   344.68   \n",
       "4  Second Class  Corporate     Oceania  Office Supplies      Storage   133.92   \n",
       "\n",
       "   Quantity  Discount  Profit  Shipping.Cost Order.Priority  Process.Time  \\\n",
       "0         2       0.0   62.15          40.77           High             2   \n",
       "1         2       0.0   54.71          25.27           High             2   \n",
       "2         9       0.1 -288.77         923.63       Critical             2   \n",
       "3         2       0.1   34.42          65.35       Critical             2   \n",
       "4         5       0.1   -6.03          41.64       Critical             2   \n",
       "\n",
       "   Month  \n",
       "0     11  \n",
       "1     11  \n",
       "2      2  \n",
       "3      2  \n",
       "4      2  "
      ]
     },
     "execution_count": 46,
     "metadata": {},
     "output_type": "execute_result"
    }
   ],
   "source": [
    "final = merged.drop(columns=['Returned','Order.Date','Ship.Date','State','Country','Market','Postal.Code','City','Row.ID', 'Order.ID', 'Customer.ID', 'Customer.Name', 'Product.ID', 'Order ID', 'Region_y', 'Product.Name'])\n",
    "final.head()"
   ]
  },
  {
   "cell_type": "code",
   "execution_count": 47,
   "metadata": {},
   "outputs": [
    {
     "name": "stdout",
     "output_type": "stream",
     "text": [
      "Index(['Ship.Mode', 'Segment', 'Region_x', 'Category', 'Sub.Category',\n",
      "       'Order.Priority'],\n",
      "      dtype='object')\n",
      "Index(['Sales', 'Quantity', 'Discount', 'Profit', 'Shipping.Cost',\n",
      "       'Process.Time', 'Month'],\n",
      "      dtype='object')\n"
     ]
    }
   ],
   "source": [
    "# Differentiate numerical features (minus the target) and categorical features\n",
    "categorical_features = final.select_dtypes(include = [\"object\"]).columns\n",
    "numerical_features = final.select_dtypes(exclude = [\"object\"]).columns\n",
    "\n",
    "#numerical_features = numerical_features.drop(\"SalePrice\")\n",
    "#print(\"Numerical features : \" + str(len(numerical_features)))\n",
    "#print(\"Categorical features : \" + str(len(categorical_features)))\n",
    "#train_num = train[numerical_features]\n",
    "#train_cat = train[categorical_features]\n",
    "print(categorical_features)\n",
    "print(numerical_features)"
   ]
  },
  {
   "cell_type": "code",
   "execution_count": 36,
   "metadata": {},
   "outputs": [
    {
     "data": {
      "text/html": [
       "<div>\n",
       "<style scoped>\n",
       "    .dataframe tbody tr th:only-of-type {\n",
       "        vertical-align: middle;\n",
       "    }\n",
       "\n",
       "    .dataframe tbody tr th {\n",
       "        vertical-align: top;\n",
       "    }\n",
       "\n",
       "    .dataframe thead th {\n",
       "        text-align: right;\n",
       "    }\n",
       "</style>\n",
       "<table border=\"1\" class=\"dataframe\">\n",
       "  <thead>\n",
       "    <tr style=\"text-align: right;\">\n",
       "      <th></th>\n",
       "      <th>Ship.Mode_Same Day</th>\n",
       "      <th>Ship.Mode_Second Class</th>\n",
       "      <th>Ship.Mode_Standard Class</th>\n",
       "      <th>Ship.Mode_nan</th>\n",
       "      <th>Segment_Corporate</th>\n",
       "      <th>Segment_Home Office</th>\n",
       "      <th>Segment_nan</th>\n",
       "      <th>Region_x_Caribbean</th>\n",
       "      <th>Region_x_Central Africa</th>\n",
       "      <th>Region_x_Central America</th>\n",
       "      <th>...</th>\n",
       "      <th>Sub.Category_Paper</th>\n",
       "      <th>Sub.Category_Phones</th>\n",
       "      <th>Sub.Category_Storage</th>\n",
       "      <th>Sub.Category_Supplies</th>\n",
       "      <th>Sub.Category_Tables</th>\n",
       "      <th>Sub.Category_nan</th>\n",
       "      <th>Order.Priority_High</th>\n",
       "      <th>Order.Priority_Low</th>\n",
       "      <th>Order.Priority_Medium</th>\n",
       "      <th>Order.Priority_nan</th>\n",
       "    </tr>\n",
       "  </thead>\n",
       "  <tbody>\n",
       "    <tr>\n",
       "      <th>0</th>\n",
       "      <td>0</td>\n",
       "      <td>0</td>\n",
       "      <td>0</td>\n",
       "      <td>0</td>\n",
       "      <td>0</td>\n",
       "      <td>0</td>\n",
       "      <td>0</td>\n",
       "      <td>0</td>\n",
       "      <td>0</td>\n",
       "      <td>0</td>\n",
       "      <td>...</td>\n",
       "      <td>0</td>\n",
       "      <td>1</td>\n",
       "      <td>0</td>\n",
       "      <td>0</td>\n",
       "      <td>0</td>\n",
       "      <td>0</td>\n",
       "      <td>1</td>\n",
       "      <td>0</td>\n",
       "      <td>0</td>\n",
       "      <td>0</td>\n",
       "    </tr>\n",
       "    <tr>\n",
       "      <th>1</th>\n",
       "      <td>0</td>\n",
       "      <td>0</td>\n",
       "      <td>0</td>\n",
       "      <td>0</td>\n",
       "      <td>0</td>\n",
       "      <td>0</td>\n",
       "      <td>0</td>\n",
       "      <td>0</td>\n",
       "      <td>0</td>\n",
       "      <td>0</td>\n",
       "      <td>...</td>\n",
       "      <td>0</td>\n",
       "      <td>0</td>\n",
       "      <td>0</td>\n",
       "      <td>0</td>\n",
       "      <td>0</td>\n",
       "      <td>0</td>\n",
       "      <td>1</td>\n",
       "      <td>0</td>\n",
       "      <td>0</td>\n",
       "      <td>0</td>\n",
       "    </tr>\n",
       "    <tr>\n",
       "      <th>2</th>\n",
       "      <td>0</td>\n",
       "      <td>1</td>\n",
       "      <td>0</td>\n",
       "      <td>0</td>\n",
       "      <td>1</td>\n",
       "      <td>0</td>\n",
       "      <td>0</td>\n",
       "      <td>0</td>\n",
       "      <td>0</td>\n",
       "      <td>0</td>\n",
       "      <td>...</td>\n",
       "      <td>0</td>\n",
       "      <td>0</td>\n",
       "      <td>0</td>\n",
       "      <td>0</td>\n",
       "      <td>0</td>\n",
       "      <td>0</td>\n",
       "      <td>0</td>\n",
       "      <td>0</td>\n",
       "      <td>0</td>\n",
       "      <td>0</td>\n",
       "    </tr>\n",
       "    <tr>\n",
       "      <th>3</th>\n",
       "      <td>0</td>\n",
       "      <td>1</td>\n",
       "      <td>0</td>\n",
       "      <td>0</td>\n",
       "      <td>1</td>\n",
       "      <td>0</td>\n",
       "      <td>0</td>\n",
       "      <td>0</td>\n",
       "      <td>0</td>\n",
       "      <td>0</td>\n",
       "      <td>...</td>\n",
       "      <td>0</td>\n",
       "      <td>0</td>\n",
       "      <td>0</td>\n",
       "      <td>0</td>\n",
       "      <td>0</td>\n",
       "      <td>0</td>\n",
       "      <td>0</td>\n",
       "      <td>0</td>\n",
       "      <td>0</td>\n",
       "      <td>0</td>\n",
       "    </tr>\n",
       "    <tr>\n",
       "      <th>4</th>\n",
       "      <td>0</td>\n",
       "      <td>1</td>\n",
       "      <td>0</td>\n",
       "      <td>0</td>\n",
       "      <td>1</td>\n",
       "      <td>0</td>\n",
       "      <td>0</td>\n",
       "      <td>0</td>\n",
       "      <td>0</td>\n",
       "      <td>0</td>\n",
       "      <td>...</td>\n",
       "      <td>0</td>\n",
       "      <td>0</td>\n",
       "      <td>1</td>\n",
       "      <td>0</td>\n",
       "      <td>0</td>\n",
       "      <td>0</td>\n",
       "      <td>0</td>\n",
       "      <td>0</td>\n",
       "      <td>0</td>\n",
       "      <td>0</td>\n",
       "    </tr>\n",
       "  </tbody>\n",
       "</table>\n",
       "<p>5 rows × 54 columns</p>\n",
       "</div>"
      ],
      "text/plain": [
       "   Ship.Mode_Same Day  Ship.Mode_Second Class  Ship.Mode_Standard Class  \\\n",
       "0                   0                       0                         0   \n",
       "1                   0                       0                         0   \n",
       "2                   0                       1                         0   \n",
       "3                   0                       1                         0   \n",
       "4                   0                       1                         0   \n",
       "\n",
       "   Ship.Mode_nan  Segment_Corporate  Segment_Home Office  Segment_nan  \\\n",
       "0              0                  0                    0            0   \n",
       "1              0                  0                    0            0   \n",
       "2              0                  1                    0            0   \n",
       "3              0                  1                    0            0   \n",
       "4              0                  1                    0            0   \n",
       "\n",
       "   Region_x_Caribbean  Region_x_Central Africa  Region_x_Central America  \\\n",
       "0                   0                        0                         0   \n",
       "1                   0                        0                         0   \n",
       "2                   0                        0                         0   \n",
       "3                   0                        0                         0   \n",
       "4                   0                        0                         0   \n",
       "\n",
       "          ...          Sub.Category_Paper  Sub.Category_Phones  \\\n",
       "0         ...                           0                    1   \n",
       "1         ...                           0                    0   \n",
       "2         ...                           0                    0   \n",
       "3         ...                           0                    0   \n",
       "4         ...                           0                    0   \n",
       "\n",
       "   Sub.Category_Storage  Sub.Category_Supplies  Sub.Category_Tables  \\\n",
       "0                     0                      0                    0   \n",
       "1                     0                      0                    0   \n",
       "2                     0                      0                    0   \n",
       "3                     0                      0                    0   \n",
       "4                     1                      0                    0   \n",
       "\n",
       "   Sub.Category_nan  Order.Priority_High  Order.Priority_Low  \\\n",
       "0                 0                    1                   0   \n",
       "1                 0                    1                   0   \n",
       "2                 0                    0                   0   \n",
       "3                 0                    0                   0   \n",
       "4                 0                    0                   0   \n",
       "\n",
       "   Order.Priority_Medium  Order.Priority_nan  \n",
       "0                      0                   0  \n",
       "1                      0                   0  \n",
       "2                      0                   0  \n",
       "3                      0                   0  \n",
       "4                      0                   0  \n",
       "\n",
       "[5 rows x 54 columns]"
      ]
     },
     "execution_count": 36,
     "metadata": {},
     "output_type": "execute_result"
    }
   ],
   "source": [
    "#X = pd.get_dummies(final[categorical_features], drop_first=True, dummy_na = True)\n",
    "#X.head()"
   ]
  },
  {
   "cell_type": "code",
   "execution_count": 48,
   "metadata": {},
   "outputs": [
    {
     "data": {
      "text/html": [
       "<div>\n",
       "<style scoped>\n",
       "    .dataframe tbody tr th:only-of-type {\n",
       "        vertical-align: middle;\n",
       "    }\n",
       "\n",
       "    .dataframe tbody tr th {\n",
       "        vertical-align: top;\n",
       "    }\n",
       "\n",
       "    .dataframe thead th {\n",
       "        text-align: right;\n",
       "    }\n",
       "</style>\n",
       "<table border=\"1\" class=\"dataframe\">\n",
       "  <thead>\n",
       "    <tr style=\"text-align: right;\">\n",
       "      <th></th>\n",
       "      <th>Sales</th>\n",
       "      <th>Quantity</th>\n",
       "      <th>Discount</th>\n",
       "      <th>Profit</th>\n",
       "      <th>Shipping.Cost</th>\n",
       "      <th>Process.Time</th>\n",
       "      <th>Month</th>\n",
       "      <th>Ship.Mode_Same Day</th>\n",
       "      <th>Ship.Mode_Second Class</th>\n",
       "      <th>Ship.Mode_Standard Class</th>\n",
       "      <th>...</th>\n",
       "      <th>Sub.Category_Paper</th>\n",
       "      <th>Sub.Category_Phones</th>\n",
       "      <th>Sub.Category_Storage</th>\n",
       "      <th>Sub.Category_Supplies</th>\n",
       "      <th>Sub.Category_Tables</th>\n",
       "      <th>Sub.Category_nan</th>\n",
       "      <th>Order.Priority_High</th>\n",
       "      <th>Order.Priority_Low</th>\n",
       "      <th>Order.Priority_Medium</th>\n",
       "      <th>Order.Priority_nan</th>\n",
       "    </tr>\n",
       "  </thead>\n",
       "  <tbody>\n",
       "    <tr>\n",
       "      <th>0</th>\n",
       "      <td>221.98</td>\n",
       "      <td>2</td>\n",
       "      <td>0.0</td>\n",
       "      <td>62.15</td>\n",
       "      <td>40.77</td>\n",
       "      <td>2</td>\n",
       "      <td>11</td>\n",
       "      <td>0</td>\n",
       "      <td>0</td>\n",
       "      <td>0</td>\n",
       "      <td>...</td>\n",
       "      <td>0</td>\n",
       "      <td>1</td>\n",
       "      <td>0</td>\n",
       "      <td>0</td>\n",
       "      <td>0</td>\n",
       "      <td>0</td>\n",
       "      <td>1</td>\n",
       "      <td>0</td>\n",
       "      <td>0</td>\n",
       "      <td>0</td>\n",
       "    </tr>\n",
       "    <tr>\n",
       "      <th>1</th>\n",
       "      <td>341.96</td>\n",
       "      <td>2</td>\n",
       "      <td>0.0</td>\n",
       "      <td>54.71</td>\n",
       "      <td>25.27</td>\n",
       "      <td>2</td>\n",
       "      <td>11</td>\n",
       "      <td>0</td>\n",
       "      <td>0</td>\n",
       "      <td>0</td>\n",
       "      <td>...</td>\n",
       "      <td>0</td>\n",
       "      <td>0</td>\n",
       "      <td>0</td>\n",
       "      <td>0</td>\n",
       "      <td>0</td>\n",
       "      <td>0</td>\n",
       "      <td>1</td>\n",
       "      <td>0</td>\n",
       "      <td>0</td>\n",
       "      <td>0</td>\n",
       "    </tr>\n",
       "    <tr>\n",
       "      <th>2</th>\n",
       "      <td>3709.40</td>\n",
       "      <td>9</td>\n",
       "      <td>0.1</td>\n",
       "      <td>-288.77</td>\n",
       "      <td>923.63</td>\n",
       "      <td>2</td>\n",
       "      <td>2</td>\n",
       "      <td>0</td>\n",
       "      <td>1</td>\n",
       "      <td>0</td>\n",
       "      <td>...</td>\n",
       "      <td>0</td>\n",
       "      <td>0</td>\n",
       "      <td>0</td>\n",
       "      <td>0</td>\n",
       "      <td>0</td>\n",
       "      <td>0</td>\n",
       "      <td>0</td>\n",
       "      <td>0</td>\n",
       "      <td>0</td>\n",
       "      <td>0</td>\n",
       "    </tr>\n",
       "    <tr>\n",
       "      <th>3</th>\n",
       "      <td>344.68</td>\n",
       "      <td>2</td>\n",
       "      <td>0.1</td>\n",
       "      <td>34.42</td>\n",
       "      <td>65.35</td>\n",
       "      <td>2</td>\n",
       "      <td>2</td>\n",
       "      <td>0</td>\n",
       "      <td>1</td>\n",
       "      <td>0</td>\n",
       "      <td>...</td>\n",
       "      <td>0</td>\n",
       "      <td>0</td>\n",
       "      <td>0</td>\n",
       "      <td>0</td>\n",
       "      <td>0</td>\n",
       "      <td>0</td>\n",
       "      <td>0</td>\n",
       "      <td>0</td>\n",
       "      <td>0</td>\n",
       "      <td>0</td>\n",
       "    </tr>\n",
       "    <tr>\n",
       "      <th>4</th>\n",
       "      <td>133.92</td>\n",
       "      <td>5</td>\n",
       "      <td>0.1</td>\n",
       "      <td>-6.03</td>\n",
       "      <td>41.64</td>\n",
       "      <td>2</td>\n",
       "      <td>2</td>\n",
       "      <td>0</td>\n",
       "      <td>1</td>\n",
       "      <td>0</td>\n",
       "      <td>...</td>\n",
       "      <td>0</td>\n",
       "      <td>0</td>\n",
       "      <td>1</td>\n",
       "      <td>0</td>\n",
       "      <td>0</td>\n",
       "      <td>0</td>\n",
       "      <td>0</td>\n",
       "      <td>0</td>\n",
       "      <td>0</td>\n",
       "      <td>0</td>\n",
       "    </tr>\n",
       "  </tbody>\n",
       "</table>\n",
       "<p>5 rows × 61 columns</p>\n",
       "</div>"
      ],
      "text/plain": [
       "     Sales  Quantity  Discount  Profit  Shipping.Cost  Process.Time  Month  \\\n",
       "0   221.98         2       0.0   62.15          40.77             2     11   \n",
       "1   341.96         2       0.0   54.71          25.27             2     11   \n",
       "2  3709.40         9       0.1 -288.77         923.63             2      2   \n",
       "3   344.68         2       0.1   34.42          65.35             2      2   \n",
       "4   133.92         5       0.1   -6.03          41.64             2      2   \n",
       "\n",
       "   Ship.Mode_Same Day  Ship.Mode_Second Class  Ship.Mode_Standard Class  \\\n",
       "0                   0                       0                         0   \n",
       "1                   0                       0                         0   \n",
       "2                   0                       1                         0   \n",
       "3                   0                       1                         0   \n",
       "4                   0                       1                         0   \n",
       "\n",
       "          ...          Sub.Category_Paper  Sub.Category_Phones  \\\n",
       "0         ...                           0                    1   \n",
       "1         ...                           0                    0   \n",
       "2         ...                           0                    0   \n",
       "3         ...                           0                    0   \n",
       "4         ...                           0                    0   \n",
       "\n",
       "   Sub.Category_Storage  Sub.Category_Supplies  Sub.Category_Tables  \\\n",
       "0                     0                      0                    0   \n",
       "1                     0                      0                    0   \n",
       "2                     0                      0                    0   \n",
       "3                     0                      0                    0   \n",
       "4                     1                      0                    0   \n",
       "\n",
       "   Sub.Category_nan  Order.Priority_High  Order.Priority_Low  \\\n",
       "0                 0                    1                   0   \n",
       "1                 0                    1                   0   \n",
       "2                 0                    0                   0   \n",
       "3                 0                    0                   0   \n",
       "4                 0                    0                   0   \n",
       "\n",
       "   Order.Priority_Medium  Order.Priority_nan  \n",
       "0                      0                   0  \n",
       "1                      0                   0  \n",
       "2                      0                   0  \n",
       "3                      0                   0  \n",
       "4                      0                   0  \n",
       "\n",
       "[5 rows x 61 columns]"
      ]
     },
     "execution_count": 48,
     "metadata": {},
     "output_type": "execute_result"
    }
   ],
   "source": [
    "X = pd.get_dummies(final, drop_first=True, dummy_na = True)\n",
    "X.head()"
   ]
  },
  {
   "cell_type": "code",
   "execution_count": 61,
   "metadata": {},
   "outputs": [
    {
     "data": {
      "text/plain": [
       "0    0.0\n",
       "1    0.0\n",
       "2    0.0\n",
       "3    0.0\n",
       "4    0.0\n",
       "Name: Returned, dtype: float64"
      ]
     },
     "execution_count": 61,
     "metadata": {},
     "output_type": "execute_result"
    }
   ],
   "source": [
    "y = merged['Returned'].apply(lambda x: 1 if x==\"Yes\" else 0).astype('float') # 1 = returned\n",
    "y.head()"
   ]
  },
  {
   "cell_type": "code",
   "execution_count": null,
   "metadata": {},
   "outputs": [],
   "source": [
    "### Problem 5: Fitting Models\n",
    "- You can use any binary classification method you have learned so far.\n",
    "- Use 80/20 training and test splits to build your model. \n",
    "- Double check the column types before you fit the model.\n",
    "- Only include useful features. i.e all the `ID`s should be excluded from your training set.\n",
    "- Not that there are only less than 5% of the orders have been returned, so you should consider using the `createDataPartition` \n",
    "function from `caret` package that does a **stratified** random split of the data. Scikit-learn also has a [StratifiedKfold]\n",
    "(http://scikit-learn.org/stable/modules/generated/sklearn.model_selection.StratifiedKFold.html#sklearn-model-selection-stratifiedkfold) \n",
    " #function that does similar thing.\n",
    "- Do forget to `set.seed()` before the spilt to make your result reproducible.\n",
    "- **Note:** We are not looking for the best tuned model in the lab so dont spend too much time on grid search. Focus on model \n",
    " evaluation and the business use case of each model."
   ]
  },
  {
   "cell_type": "code",
   "execution_count": 62,
   "metadata": {},
   "outputs": [],
   "source": [
    "from sklearn.model_selection import train_test_split\n",
    "X_train, X_test, y_train, y_test = train_test_split(X, y, test_size=0.2, random_state=42, stratify=y)"
   ]
  },
  {
   "cell_type": "code",
   "execution_count": 63,
   "metadata": {},
   "outputs": [
    {
     "name": "stderr",
     "output_type": "stream",
     "text": [
      "C:\\Users\\asus\\Anaconda2\\envs\\ipykernel_py3\\lib\\site-packages\\sklearn\\linear_model\\logistic.py:432: FutureWarning: Default solver will be changed to 'lbfgs' in 0.22. Specify a solver to silence this warning.\n",
      "  FutureWarning)\n"
     ]
    }
   ],
   "source": [
    "from sklearn.linear_model import LogisticRegression\n",
    "# Since this is an imbalanced dataset, setting class_weight='balanced' will give us a better result\n",
    "# http://scikit-learn.org/stable/modules/generated/sklearn.linear_model.LogisticRegression.html\n",
    "LR = LogisticRegression(class_weight='balanced')\n",
    "LR.fit(X_train, y_train)\n",
    "y_predict = LR.predict(X_test)"
   ]
  },
  {
   "cell_type": "code",
   "execution_count": 64,
   "metadata": {},
   "outputs": [
    {
     "data": {
      "text/plain": [
       "array([[5174, 4640],\n",
       "       [ 207,  237]], dtype=int64)"
      ]
     },
     "execution_count": 64,
     "metadata": {},
     "output_type": "execute_result"
    }
   ],
   "source": [
    "from sklearn.metrics import confusion_matrix, roc_auc_score\n",
    "confusion_matrix(y_test, y_predict)"
   ]
  },
  {
   "cell_type": "code",
   "execution_count": 65,
   "metadata": {},
   "outputs": [
    {
     "data": {
      "text/plain": [
       "0.5304949079913417"
      ]
     },
     "execution_count": 65,
     "metadata": {},
     "output_type": "execute_result"
    }
   ],
   "source": [
    "# This is an imbalanced dataset so I would achieve more than 95% accuracy rate even if I always predict 'No'. \n",
    "# In this case, accuracy is not a good metric. ROC curve or F1 score works better for this task.\n",
    "roc_auc_score(y_test, y_predict)"
   ]
  },
  {
   "cell_type": "code",
   "execution_count": 66,
   "metadata": {},
   "outputs": [],
   "source": [
    "from sklearn.ensemble import RandomForestClassifier\n",
    "rf = RandomForestClassifier(n_estimators=1000, max_depth=9, class_weight='balanced', n_jobs=-1)\n",
    "rf.fit(X_train, y_train)\n",
    "y_predict = rf.predict(X_test)"
   ]
  },
  {
   "cell_type": "code",
   "execution_count": 67,
   "metadata": {},
   "outputs": [
    {
     "data": {
      "text/plain": [
       "array([[8784, 1030],\n",
       "       [ 361,   83]], dtype=int64)"
      ]
     },
     "execution_count": 67,
     "metadata": {},
     "output_type": "execute_result"
    }
   ],
   "source": [
    "confusion_matrix(y_test, y_predict)"
   ]
  },
  {
   "cell_type": "code",
   "execution_count": 68,
   "metadata": {},
   "outputs": [
    {
     "data": {
      "text/plain": [
       "0.5409924138526135"
      ]
     },
     "execution_count": 68,
     "metadata": {},
     "output_type": "execute_result"
    }
   ],
   "source": [
    "roc_auc_score(y_test, y_predict)"
   ]
  },
  {
   "cell_type": "code",
   "execution_count": null,
   "metadata": {},
   "outputs": [],
   "source": [
    "#################################################################################"
   ]
  },
  {
   "cell_type": "code",
   "execution_count": 121,
   "metadata": {},
   "outputs": [
    {
     "name": "stdout",
     "output_type": "stream",
     "text": [
      "[51 43 37 ...  1  1  1]\n"
     ]
    },
    {
     "data": {
      "text/plain": [
       "Product.ID   Process.Time  Returned\n",
       "OFF-FA-6129  4             No          51\n",
       "             5             No          43\n",
       "             2             No          37\n",
       "             6             No          31\n",
       "OFF-BI-3737  4             No          30\n",
       "Name: Product.ID, dtype: int64"
      ]
     },
     "execution_count": 121,
     "metadata": {},
     "output_type": "execute_result"
    }
   ],
   "source": [
    "returned_orders = merged.groupby(['Product.ID', 'Process.Time', 'Returned'])['Product.ID'].count().sort_values(ascending = False)\n",
    "print( returned_orders.values)\n",
    "returned_orders.head() #returns"
   ]
  },
  {
   "cell_type": "code",
   "execution_count": 130,
   "metadata": {},
   "outputs": [
    {
     "data": {
      "text/plain": [
       "1    1898\n",
       "2     143\n",
       "3       9\n",
       "4       1\n",
       "5       1\n",
       "Name: Product.ID, dtype: int64"
      ]
     },
     "execution_count": 130,
     "metadata": {},
     "output_type": "execute_result"
    }
   ],
   "source": [
    "#filter yes\n",
    "returned_orders[returned_orders.index.labels[2] == 1].groupby([returned_orders[returned_orders.index.labels[2] == 1].values]).count()"
   ]
  },
  {
   "cell_type": "code",
   "execution_count": 137,
   "metadata": {},
   "outputs": [],
   "source": [
    "yes = merged[merged['Returned'] == 'Yes']"
   ]
  },
  {
   "cell_type": "code",
   "execution_count": 95,
   "metadata": {},
   "outputs": [
    {
     "data": {
      "text/plain": [
       "FrozenNDArray([2, 6, 0, 2, 4, 7, 2, 4, 4, 5, 2, 3, 4, 5, 6, 1, 2, 3, 4, 5, 6, 1, 2, 4, 5, 6, 7, 1, 2, 4, 4, 5, 6, 7, 0, 1, 2, 3, 4, 5, 6, 0, 2, 3, 4, 5, 6, 7, 0, 2, 3, 4, 5, 5, 2, 1, 1, 2, 3, 4, 5, 6, 7, 3, 4, 4, 5, 5, 6, 7, 2, 3, 4, 5, 0, 2, 4, 4, 5, 6, 7, 0, 1, 2, 4, 5, 5, 6, 7, 1, 2, 3, 3, 4, 5, 6, 6, 7, 0, 2, ...], dtype='int8')"
      ]
     },
     "execution_count": 95,
     "metadata": {},
     "output_type": "execute_result"
    }
   ],
   "source": [
    "returned_orders.index.labels[1] #process time"
   ]
  },
  {
   "cell_type": "code",
   "execution_count": 109,
   "metadata": {},
   "outputs": [
    {
     "data": {
      "text/plain": [
       "FrozenNDArray([4, 6, 4, 5, 1, 7, 4, 5, 4, 5, 3, 6, 4, 5, 4, 5, 5, 1, 2, 5, 7, 0, 4, 4, 4, 4, 4, 6, 2, 1, 6, 5, 4, 4, 5, 6, 1, 5, 6, 2, 0, 4, 3, 4, 5, 5, 4, 6, 1, 5, 4, 5, 2, 4, 4, 2, 5, 6, 4, 5, 1, 3, 2, 3, 4, 5, 5, 4, 6, 4, 4, 1, 5, 0, 3, 5, 5, 2, 4, 2, 4, 7, 4, 7, 2, 4, 5, 5, 7, 2, 4, 5, 4, 4, 5, 6, 4, 6, 5, 3, ...], dtype='int8')"
      ]
     },
     "execution_count": 109,
     "metadata": {},
     "output_type": "execute_result"
    }
   ],
   "source": [
    "returned_orders[returned_orders.index.labels[2] == 1].index.labels[1]"
   ]
  },
  {
   "cell_type": "code",
   "execution_count": 110,
   "metadata": {},
   "outputs": [
    {
     "data": {
      "text/plain": [
       "array([1, 1, 1, ..., 1, 1, 1], dtype=int64)"
      ]
     },
     "execution_count": 110,
     "metadata": {},
     "output_type": "execute_result"
    }
   ],
   "source": [
    "returned_orders[returned_orders.index.labels[2] == 1].values"
   ]
  },
  {
   "cell_type": "code",
   "execution_count": 139,
   "metadata": {},
   "outputs": [
    {
     "ename": "ValueError",
     "evalue": "`bins` must increase monotonically, when an array",
     "output_type": "error",
     "traceback": [
      "\u001b[1;31m---------------------------------------------------------------------------\u001b[0m",
      "\u001b[1;31mValueError\u001b[0m                                Traceback (most recent call last)",
      "\u001b[1;32m<ipython-input-139-26b2436239d2>\u001b[0m in \u001b[0;36m<module>\u001b[1;34m\u001b[0m\n\u001b[0;32m      1\u001b[0m \u001b[1;32mimport\u001b[0m \u001b[0mmatplotlib\u001b[0m\u001b[1;33m.\u001b[0m\u001b[0mpyplot\u001b[0m \u001b[1;32mas\u001b[0m \u001b[0mplt\u001b[0m\u001b[1;33m\u001b[0m\u001b[0m\n\u001b[0;32m      2\u001b[0m \u001b[1;31m# Looking for outliers, as indicated in https://ww2.amstat.org/publications/jse/v19n3/decock.pdf\u001b[0m\u001b[1;33m\u001b[0m\u001b[1;33m\u001b[0m\u001b[0m\n\u001b[1;32m----> 3\u001b[1;33m \u001b[0mplt\u001b[0m\u001b[1;33m.\u001b[0m\u001b[0mhist\u001b[0m\u001b[1;33m(\u001b[0m\u001b[0myes\u001b[0m\u001b[1;33m[\u001b[0m\u001b[1;34m'Returned'\u001b[0m\u001b[1;33m]\u001b[0m\u001b[1;33m,\u001b[0m \u001b[0myes\u001b[0m\u001b[1;33m[\u001b[0m\u001b[1;34m'Process.Time'\u001b[0m\u001b[1;33m]\u001b[0m\u001b[1;33m)\u001b[0m\u001b[1;33m\u001b[0m\u001b[0m\n\u001b[0m\u001b[0;32m      4\u001b[0m \u001b[0mplt\u001b[0m\u001b[1;33m.\u001b[0m\u001b[0mxlabel\u001b[0m\u001b[1;33m(\u001b[0m\u001b[1;34m\"Process Time\"\u001b[0m\u001b[1;33m)\u001b[0m\u001b[1;33m\u001b[0m\u001b[0m\n\u001b[0;32m      5\u001b[0m \u001b[0mplt\u001b[0m\u001b[1;33m.\u001b[0m\u001b[0mylabel\u001b[0m\u001b[1;33m(\u001b[0m\u001b[1;34m\"Returns\"\u001b[0m\u001b[1;33m)\u001b[0m\u001b[1;33m\u001b[0m\u001b[0m\n",
      "\u001b[1;32m~\\Anaconda2\\envs\\ipykernel_py3\\lib\\site-packages\\matplotlib\\pyplot.py\u001b[0m in \u001b[0;36mhist\u001b[1;34m(x, bins, range, density, weights, cumulative, bottom, histtype, align, orientation, rwidth, log, color, label, stacked, normed, data, **kwargs)\u001b[0m\n\u001b[0;32m   2617\u001b[0m         \u001b[0malign\u001b[0m\u001b[1;33m=\u001b[0m\u001b[0malign\u001b[0m\u001b[1;33m,\u001b[0m \u001b[0morientation\u001b[0m\u001b[1;33m=\u001b[0m\u001b[0morientation\u001b[0m\u001b[1;33m,\u001b[0m \u001b[0mrwidth\u001b[0m\u001b[1;33m=\u001b[0m\u001b[0mrwidth\u001b[0m\u001b[1;33m,\u001b[0m \u001b[0mlog\u001b[0m\u001b[1;33m=\u001b[0m\u001b[0mlog\u001b[0m\u001b[1;33m,\u001b[0m\u001b[1;33m\u001b[0m\u001b[0m\n\u001b[0;32m   2618\u001b[0m         \u001b[0mcolor\u001b[0m\u001b[1;33m=\u001b[0m\u001b[0mcolor\u001b[0m\u001b[1;33m,\u001b[0m \u001b[0mlabel\u001b[0m\u001b[1;33m=\u001b[0m\u001b[0mlabel\u001b[0m\u001b[1;33m,\u001b[0m \u001b[0mstacked\u001b[0m\u001b[1;33m=\u001b[0m\u001b[0mstacked\u001b[0m\u001b[1;33m,\u001b[0m \u001b[0mnormed\u001b[0m\u001b[1;33m=\u001b[0m\u001b[0mnormed\u001b[0m\u001b[1;33m,\u001b[0m\u001b[1;33m\u001b[0m\u001b[0m\n\u001b[1;32m-> 2619\u001b[1;33m         data=data, **kwargs)\n\u001b[0m\u001b[0;32m   2620\u001b[0m \u001b[1;33m\u001b[0m\u001b[0m\n\u001b[0;32m   2621\u001b[0m \u001b[1;31m# Autogenerated by boilerplate.py.  Do not edit as changes will be lost.\u001b[0m\u001b[1;33m\u001b[0m\u001b[1;33m\u001b[0m\u001b[0m\n",
      "\u001b[1;32m~\\Anaconda2\\envs\\ipykernel_py3\\lib\\site-packages\\matplotlib\\__init__.py\u001b[0m in \u001b[0;36minner\u001b[1;34m(ax, data, *args, **kwargs)\u001b[0m\n\u001b[0;32m   1783\u001b[0m                         \u001b[1;34m\"the Matplotlib list!)\"\u001b[0m \u001b[1;33m%\u001b[0m \u001b[1;33m(\u001b[0m\u001b[0mlabel_namer\u001b[0m\u001b[1;33m,\u001b[0m \u001b[0mfunc\u001b[0m\u001b[1;33m.\u001b[0m\u001b[0m__name__\u001b[0m\u001b[1;33m)\u001b[0m\u001b[1;33m,\u001b[0m\u001b[1;33m\u001b[0m\u001b[0m\n\u001b[0;32m   1784\u001b[0m                         RuntimeWarning, stacklevel=2)\n\u001b[1;32m-> 1785\u001b[1;33m             \u001b[1;32mreturn\u001b[0m \u001b[0mfunc\u001b[0m\u001b[1;33m(\u001b[0m\u001b[0max\u001b[0m\u001b[1;33m,\u001b[0m \u001b[1;33m*\u001b[0m\u001b[0margs\u001b[0m\u001b[1;33m,\u001b[0m \u001b[1;33m**\u001b[0m\u001b[0mkwargs\u001b[0m\u001b[1;33m)\u001b[0m\u001b[1;33m\u001b[0m\u001b[0m\n\u001b[0m\u001b[0;32m   1786\u001b[0m \u001b[1;33m\u001b[0m\u001b[0m\n\u001b[0;32m   1787\u001b[0m         inner.__doc__ = _add_data_doc(inner.__doc__,\n",
      "\u001b[1;32m~\\Anaconda2\\envs\\ipykernel_py3\\lib\\site-packages\\matplotlib\\axes\\_axes.py\u001b[0m in \u001b[0;36mhist\u001b[1;34m(self, x, bins, range, density, weights, cumulative, bottom, histtype, align, orientation, rwidth, log, color, label, stacked, normed, **kwargs)\u001b[0m\n\u001b[0;32m   6567\u001b[0m             \u001b[1;31m# this will automatically overwrite bins,\u001b[0m\u001b[1;33m\u001b[0m\u001b[1;33m\u001b[0m\u001b[0m\n\u001b[0;32m   6568\u001b[0m             \u001b[1;31m# so that each histogram uses the same bins\u001b[0m\u001b[1;33m\u001b[0m\u001b[1;33m\u001b[0m\u001b[0m\n\u001b[1;32m-> 6569\u001b[1;33m             \u001b[0mm\u001b[0m\u001b[1;33m,\u001b[0m \u001b[0mbins\u001b[0m \u001b[1;33m=\u001b[0m \u001b[0mnp\u001b[0m\u001b[1;33m.\u001b[0m\u001b[0mhistogram\u001b[0m\u001b[1;33m(\u001b[0m\u001b[0mx\u001b[0m\u001b[1;33m[\u001b[0m\u001b[0mi\u001b[0m\u001b[1;33m]\u001b[0m\u001b[1;33m,\u001b[0m \u001b[0mbins\u001b[0m\u001b[1;33m,\u001b[0m \u001b[0mweights\u001b[0m\u001b[1;33m=\u001b[0m\u001b[0mw\u001b[0m\u001b[1;33m[\u001b[0m\u001b[0mi\u001b[0m\u001b[1;33m]\u001b[0m\u001b[1;33m,\u001b[0m \u001b[1;33m**\u001b[0m\u001b[0mhist_kwargs\u001b[0m\u001b[1;33m)\u001b[0m\u001b[1;33m\u001b[0m\u001b[0m\n\u001b[0m\u001b[0;32m   6570\u001b[0m             \u001b[0mm\u001b[0m \u001b[1;33m=\u001b[0m \u001b[0mm\u001b[0m\u001b[1;33m.\u001b[0m\u001b[0mastype\u001b[0m\u001b[1;33m(\u001b[0m\u001b[0mfloat\u001b[0m\u001b[1;33m)\u001b[0m  \u001b[1;31m# causes problems later if it's an int\u001b[0m\u001b[1;33m\u001b[0m\u001b[0m\n\u001b[0;32m   6571\u001b[0m             \u001b[1;32mif\u001b[0m \u001b[0mmlast\u001b[0m \u001b[1;32mis\u001b[0m \u001b[1;32mNone\u001b[0m\u001b[1;33m:\u001b[0m\u001b[1;33m\u001b[0m\u001b[0m\n",
      "\u001b[1;32m~\\Anaconda2\\envs\\ipykernel_py3\\lib\\site-packages\\numpy\\lib\\histograms.py\u001b[0m in \u001b[0;36mhistogram\u001b[1;34m(a, bins, range, normed, weights, density)\u001b[0m\n\u001b[0;32m    708\u001b[0m     \u001b[0ma\u001b[0m\u001b[1;33m,\u001b[0m \u001b[0mweights\u001b[0m \u001b[1;33m=\u001b[0m \u001b[0m_ravel_and_check_weights\u001b[0m\u001b[1;33m(\u001b[0m\u001b[0ma\u001b[0m\u001b[1;33m,\u001b[0m \u001b[0mweights\u001b[0m\u001b[1;33m)\u001b[0m\u001b[1;33m\u001b[0m\u001b[0m\n\u001b[0;32m    709\u001b[0m \u001b[1;33m\u001b[0m\u001b[0m\n\u001b[1;32m--> 710\u001b[1;33m     \u001b[0mbin_edges\u001b[0m\u001b[1;33m,\u001b[0m \u001b[0muniform_bins\u001b[0m \u001b[1;33m=\u001b[0m \u001b[0m_get_bin_edges\u001b[0m\u001b[1;33m(\u001b[0m\u001b[0ma\u001b[0m\u001b[1;33m,\u001b[0m \u001b[0mbins\u001b[0m\u001b[1;33m,\u001b[0m \u001b[0mrange\u001b[0m\u001b[1;33m,\u001b[0m \u001b[0mweights\u001b[0m\u001b[1;33m)\u001b[0m\u001b[1;33m\u001b[0m\u001b[0m\n\u001b[0m\u001b[0;32m    711\u001b[0m \u001b[1;33m\u001b[0m\u001b[0m\n\u001b[0;32m    712\u001b[0m     \u001b[1;31m# Histogram is an integer or a float array depending on the weights.\u001b[0m\u001b[1;33m\u001b[0m\u001b[1;33m\u001b[0m\u001b[0m\n",
      "\u001b[1;32m~\\Anaconda2\\envs\\ipykernel_py3\\lib\\site-packages\\numpy\\lib\\histograms.py\u001b[0m in \u001b[0;36m_get_bin_edges\u001b[1;34m(a, bins, range, weights)\u001b[0m\n\u001b[0;32m    367\u001b[0m         \u001b[1;32mif\u001b[0m \u001b[0mnp\u001b[0m\u001b[1;33m.\u001b[0m\u001b[0many\u001b[0m\u001b[1;33m(\u001b[0m\u001b[0mbin_edges\u001b[0m\u001b[1;33m[\u001b[0m\u001b[1;33m:\u001b[0m\u001b[1;33m-\u001b[0m\u001b[1;36m1\u001b[0m\u001b[1;33m]\u001b[0m \u001b[1;33m>\u001b[0m \u001b[0mbin_edges\u001b[0m\u001b[1;33m[\u001b[0m\u001b[1;36m1\u001b[0m\u001b[1;33m:\u001b[0m\u001b[1;33m]\u001b[0m\u001b[1;33m)\u001b[0m\u001b[1;33m:\u001b[0m\u001b[1;33m\u001b[0m\u001b[0m\n\u001b[0;32m    368\u001b[0m             raise ValueError(\n\u001b[1;32m--> 369\u001b[1;33m                 '`bins` must increase monotonically, when an array')\n\u001b[0m\u001b[0;32m    370\u001b[0m \u001b[1;33m\u001b[0m\u001b[0m\n\u001b[0;32m    371\u001b[0m     \u001b[1;32melse\u001b[0m\u001b[1;33m:\u001b[0m\u001b[1;33m\u001b[0m\u001b[0m\n",
      "\u001b[1;31mValueError\u001b[0m: `bins` must increase monotonically, when an array"
     ]
    },
    {
     "data": {
      "image/png": "[encoded data removed]",
      "text/plain": [
       "<Figure size 432x288 with 1 Axes>"
      ]
     },
     "metadata": {
      "needs_background": "light"
     },
     "output_type": "display_data"
    }
   ],
   "source": [
    "import matplotlib.pyplot as plt\n",
    "# Looking for outliers, as indicated in https://ww2.amstat.org/publications/jse/v19n3/decock.pdf\n",
    "plt.hist(yes['Returned'], yes['Process.Time'])\n",
    "plt.xlabel(\"Process Time\")\n",
    "plt.ylabel(\"Returns\")\n",
    "plt.show()\n",
    "\n",
    "#train = train[train.GrLivArea < 4000] #remove outliers\n",
    "\n",
    "#var = 'GrLivArea'\n",
    "#data = pd.concat([train['SalePrice'], train[var]], axis=1)\n",
    "#data.plot.scatter(x=var, y='SalePrice', ylim=(0,800000));"
   ]
  },
  {
   "cell_type": "code",
   "execution_count": null,
   "metadata": {},
   "outputs": [],
   "source": [
    "plt.bar(returned_orders[returned_orders.index.labels[2] == 1].index.labels[1], returned_orders[returned_orders.index.labels[2] == 1].values)\n",
    "plt.xlabel(\"Process Time\")\n",
    "plt.ylabel(\"Returns\")\n",
    "plt.show()"
   ]
  },
  {
   "cell_type": "code",
   "execution_count": null,
   "metadata": {},
   "outputs": [],
   "source": []
  },
  {
   "cell_type": "code",
   "execution_count": null,
   "metadata": {},
   "outputs": [],
   "source": []
  },
  {
   "cell_type": "code",
   "execution_count": null,
   "metadata": {},
   "outputs": [],
   "source": []
  },
  {
   "cell_type": "code",
   "execution_count": null,
   "metadata": {},
   "outputs": [],
   "source": [
    "### Problem 6: Evaluating Models\n",
    "- What is the best metric to evaluate your model. Is accuracy good for this case?\n",
    "- Now you have multiple models, which one would you pick? \n",
    "- Can you get any clue from the confusion matrix? What is the meaning of precision and recall in this case? Which one do you care \n",
    " the most? How will your model help the manager make decisions?\n",
    "- **Note:** The last question is open-ended. Your answer could be completely different depending on your understanding of this business \n",
    " problem."
   ]
  },
  {
   "cell_type": "code",
   "execution_count": null,
   "metadata": {},
   "outputs": [],
   "source": []
  },
  {
   "cell_type": "code",
   "execution_count": null,
   "metadata": {},
   "outputs": [],
   "source": []
  },
  {
   "cell_type": "code",
   "execution_count": null,
   "metadata": {},
   "outputs": [],
   "source": []
  },
  {
   "cell_type": "code",
   "execution_count": null,
   "metadata": {},
   "outputs": [],
   "source": [
    "### Problem 7: Feature Engineering Revisit\n",
    "- Is there anything wrong with the new feature we generated? How should we fix it?\n",
    "- ***Hint***: For the real test set, we do not know it will get returned or not."
   ]
  },
  {
   "cell_type": "code",
   "execution_count": null,
   "metadata": {},
   "outputs": [],
   "source": []
  },
  {
   "cell_type": "code",
   "execution_count": null,
   "metadata": {},
   "outputs": [],
   "source": []
  },
  {
   "cell_type": "code",
   "execution_count": null,
   "metadata": {},
   "outputs": [],
   "source": []
  }
 ],
 "metadata": {
  "kernelspec": {
   "display_name": "Python 3",
   "language": "python",
   "name": "python3"
  },
  "language_info": {
   "codemirror_mode": {
    "name": "ipython",
    "version": 3
   },
   "file_extension": ".py",
   "mimetype": "text/x-python",
   "name": "python",
   "nbconvert_exporter": "python",
   "pygments_lexer": "ipython3",
   "version": "3.7.0"
  }
 },
 "nbformat": 4,
 "nbformat_minor": 2
}
