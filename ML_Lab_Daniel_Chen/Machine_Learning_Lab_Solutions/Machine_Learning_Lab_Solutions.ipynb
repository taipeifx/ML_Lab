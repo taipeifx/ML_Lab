{
 "cells": [
  {
   "cell_type": "markdown",
   "metadata": {},
   "source": [
    "## Part 1: Preprocessing and EDA"
   ]
  },
  {
   "cell_type": "markdown",
   "metadata": {},
   "source": [
    "### Problem 1: Dataset Import & Cleaning"
   ]
  },
  {
   "cell_type": "code",
   "execution_count": 1,
   "metadata": {},
   "outputs": [],
   "source": [
    "import pandas as pd\n",
    "%matplotlib inline"
   ]
  },
  {
   "cell_type": "code",
   "execution_count": 2,
   "metadata": {},
   "outputs": [],
   "source": [
    "orders = pd.read_csv('data/Orders.csv')"
   ]
  },
  {
   "cell_type": "code",
   "execution_count": 3,
   "metadata": {},
   "outputs": [
    {
     "data": {
      "text/plain": [
       "(51290, 24)"
      ]
     },
     "execution_count": 3,
     "metadata": {},
     "output_type": "execute_result"
    }
   ],
   "source": [
    "orders.shape"
   ]
  },
  {
   "cell_type": "code",
   "execution_count": 4,
   "metadata": {},
   "outputs": [],
   "source": [
    "pd.options.display.max_columns = 30"
   ]
  },
  {
   "cell_type": "code",
   "execution_count": 5,
   "metadata": {},
   "outputs": [
    {
     "data": {
      "text/html": [
       "<div>\n",
       "<style scoped>\n",
       "    .dataframe tbody tr th:only-of-type {\n",
       "        vertical-align: middle;\n",
       "    }\n",
       "\n",
       "    .dataframe tbody tr th {\n",
       "        vertical-align: top;\n",
       "    }\n",
       "\n",
       "    .dataframe thead th {\n",
       "        text-align: right;\n",
       "    }\n",
       "</style>\n",
       "<table border=\"1\" class=\"dataframe\">\n",
       "  <thead>\n",
       "    <tr style=\"text-align: right;\">\n",
       "      <th></th>\n",
       "      <th>Row.ID</th>\n",
       "      <th>Order.ID</th>\n",
       "      <th>Order.Date</th>\n",
       "      <th>Ship.Date</th>\n",
       "      <th>Ship.Mode</th>\n",
       "      <th>Customer.ID</th>\n",
       "      <th>Customer.Name</th>\n",
       "      <th>Segment</th>\n",
       "      <th>Postal.Code</th>\n",
       "      <th>City</th>\n",
       "      <th>State</th>\n",
       "      <th>Country</th>\n",
       "      <th>Region</th>\n",
       "      <th>Market</th>\n",
       "      <th>Product.ID</th>\n",
       "      <th>Category</th>\n",
       "      <th>Sub.Category</th>\n",
       "      <th>Product.Name</th>\n",
       "      <th>Sales</th>\n",
       "      <th>Quantity</th>\n",
       "      <th>Discount</th>\n",
       "      <th>Profit</th>\n",
       "      <th>Shipping.Cost</th>\n",
       "      <th>Order.Priority</th>\n",
       "    </tr>\n",
       "  </thead>\n",
       "  <tbody>\n",
       "    <tr>\n",
       "      <th>51146</th>\n",
       "      <td>31092</td>\n",
       "      <td>ID-2012-SH2039592-41224</td>\n",
       "      <td>11/11/12</td>\n",
       "      <td>11/14/12</td>\n",
       "      <td>First Class</td>\n",
       "      <td>SH-2039592</td>\n",
       "      <td>Shahid Hopkins</td>\n",
       "      <td>Consumer</td>\n",
       "      <td>NaN</td>\n",
       "      <td>Auckland</td>\n",
       "      <td>Auckland</td>\n",
       "      <td>New Zealand</td>\n",
       "      <td>Oceania</td>\n",
       "      <td>Asia Pacific</td>\n",
       "      <td>OFF-BI-3718</td>\n",
       "      <td>Office Supplies</td>\n",
       "      <td>Binders</td>\n",
       "      <td>Cardinal Binder Covers, Economy</td>\n",
       "      <td>$7.20</td>\n",
       "      <td>1</td>\n",
       "      <td>0.40</td>\n",
       "      <td>-$3.60</td>\n",
       "      <td>1.07</td>\n",
       "      <td>High</td>\n",
       "    </tr>\n",
       "    <tr>\n",
       "      <th>43415</th>\n",
       "      <td>23429</td>\n",
       "      <td>IN-2013-CS121757-41394</td>\n",
       "      <td>4/30/13</td>\n",
       "      <td>5/5/13</td>\n",
       "      <td>Standard Class</td>\n",
       "      <td>CS-121757</td>\n",
       "      <td>Charles Sheldon</td>\n",
       "      <td>Corporate</td>\n",
       "      <td>NaN</td>\n",
       "      <td>Toowoomba</td>\n",
       "      <td>Queensland</td>\n",
       "      <td>Australia</td>\n",
       "      <td>Oceania</td>\n",
       "      <td>Asia Pacific</td>\n",
       "      <td>OFF-LA-4534</td>\n",
       "      <td>Office Supplies</td>\n",
       "      <td>Labels</td>\n",
       "      <td>Harbour Creations File Folder Labels, Adjustable</td>\n",
       "      <td>$5.97</td>\n",
       "      <td>1</td>\n",
       "      <td>0.10</td>\n",
       "      <td>-$0.09</td>\n",
       "      <td>1.82</td>\n",
       "      <td>High</td>\n",
       "    </tr>\n",
       "    <tr>\n",
       "      <th>2646</th>\n",
       "      <td>13804</td>\n",
       "      <td>ES-2014-TB21595120-41800</td>\n",
       "      <td>6/10/14</td>\n",
       "      <td>6/11/14</td>\n",
       "      <td>First Class</td>\n",
       "      <td>TB-21595120</td>\n",
       "      <td>Troy Blackwell</td>\n",
       "      <td>Consumer</td>\n",
       "      <td>NaN</td>\n",
       "      <td>Madrid</td>\n",
       "      <td>Madrid</td>\n",
       "      <td>Spain</td>\n",
       "      <td>Southern Europe</td>\n",
       "      <td>Europe</td>\n",
       "      <td>OFF-AR-5920</td>\n",
       "      <td>Office Supplies</td>\n",
       "      <td>Art</td>\n",
       "      <td>Sanford Markers, Water Color</td>\n",
       "      <td>$370.02</td>\n",
       "      <td>14</td>\n",
       "      <td>0.00</td>\n",
       "      <td>$33.18</td>\n",
       "      <td>109.19</td>\n",
       "      <td>High</td>\n",
       "    </tr>\n",
       "    <tr>\n",
       "      <th>1723</th>\n",
       "      <td>25237</td>\n",
       "      <td>ID-2012-EH14125102-41097</td>\n",
       "      <td>7/7/12</td>\n",
       "      <td>7/12/12</td>\n",
       "      <td>Standard Class</td>\n",
       "      <td>EH-14125102</td>\n",
       "      <td>Eugene Hildebrand</td>\n",
       "      <td>Home Office</td>\n",
       "      <td>NaN</td>\n",
       "      <td>Manila</td>\n",
       "      <td>National Capital</td>\n",
       "      <td>Philippines</td>\n",
       "      <td>Southeastern Asia</td>\n",
       "      <td>Asia Pacific</td>\n",
       "      <td>TEC-MA-5548</td>\n",
       "      <td>Technology</td>\n",
       "      <td>Machines</td>\n",
       "      <td>Panasonic Inkjet, White</td>\n",
       "      <td>$1,630.13</td>\n",
       "      <td>7</td>\n",
       "      <td>0.25</td>\n",
       "      <td>-$282.56</td>\n",
       "      <td>147.98</td>\n",
       "      <td>Medium</td>\n",
       "    </tr>\n",
       "    <tr>\n",
       "      <th>2283</th>\n",
       "      <td>19685</td>\n",
       "      <td>IT-2014-ML17395120-41794</td>\n",
       "      <td>6/4/14</td>\n",
       "      <td>6/7/14</td>\n",
       "      <td>Second Class</td>\n",
       "      <td>ML-17395120</td>\n",
       "      <td>Marina Lichtenstein</td>\n",
       "      <td>Corporate</td>\n",
       "      <td>NaN</td>\n",
       "      <td>Valladolid</td>\n",
       "      <td>Castile and León</td>\n",
       "      <td>Spain</td>\n",
       "      <td>Southern Europe</td>\n",
       "      <td>Europe</td>\n",
       "      <td>OFF-ST-5707</td>\n",
       "      <td>Office Supplies</td>\n",
       "      <td>Storage</td>\n",
       "      <td>Rogers Shelving, Single Width</td>\n",
       "      <td>$447.55</td>\n",
       "      <td>8</td>\n",
       "      <td>0.10</td>\n",
       "      <td>-$10.13</td>\n",
       "      <td>122.68</td>\n",
       "      <td>Critical</td>\n",
       "    </tr>\n",
       "  </tbody>\n",
       "</table>\n",
       "</div>"
      ],
      "text/plain": [
       "       Row.ID                  Order.ID Order.Date Ship.Date       Ship.Mode  \\\n",
       "51146   31092   ID-2012-SH2039592-41224   11/11/12  11/14/12     First Class   \n",
       "43415   23429    IN-2013-CS121757-41394    4/30/13    5/5/13  Standard Class   \n",
       "2646    13804  ES-2014-TB21595120-41800    6/10/14   6/11/14     First Class   \n",
       "1723    25237  ID-2012-EH14125102-41097     7/7/12   7/12/12  Standard Class   \n",
       "2283    19685  IT-2014-ML17395120-41794     6/4/14    6/7/14    Second Class   \n",
       "\n",
       "       Customer.ID        Customer.Name      Segment  Postal.Code        City  \\\n",
       "51146   SH-2039592       Shahid Hopkins     Consumer          NaN    Auckland   \n",
       "43415    CS-121757      Charles Sheldon    Corporate          NaN   Toowoomba   \n",
       "2646   TB-21595120       Troy Blackwell     Consumer          NaN      Madrid   \n",
       "1723   EH-14125102    Eugene Hildebrand  Home Office          NaN      Manila   \n",
       "2283   ML-17395120  Marina Lichtenstein    Corporate          NaN  Valladolid   \n",
       "\n",
       "                  State      Country             Region        Market  \\\n",
       "51146          Auckland  New Zealand            Oceania  Asia Pacific   \n",
       "43415        Queensland    Australia            Oceania  Asia Pacific   \n",
       "2646             Madrid        Spain    Southern Europe        Europe   \n",
       "1723   National Capital  Philippines  Southeastern Asia  Asia Pacific   \n",
       "2283   Castile and León        Spain    Southern Europe        Europe   \n",
       "\n",
       "        Product.ID         Category Sub.Category  \\\n",
       "51146  OFF-BI-3718  Office Supplies      Binders   \n",
       "43415  OFF-LA-4534  Office Supplies       Labels   \n",
       "2646   OFF-AR-5920  Office Supplies          Art   \n",
       "1723   TEC-MA-5548       Technology     Machines   \n",
       "2283   OFF-ST-5707  Office Supplies      Storage   \n",
       "\n",
       "                                           Product.Name      Sales  Quantity  \\\n",
       "51146                   Cardinal Binder Covers, Economy      $7.20         1   \n",
       "43415  Harbour Creations File Folder Labels, Adjustable      $5.97         1   \n",
       "2646                       Sanford Markers, Water Color    $370.02        14   \n",
       "1723                            Panasonic Inkjet, White  $1,630.13         7   \n",
       "2283                      Rogers Shelving, Single Width    $447.55         8   \n",
       "\n",
       "       Discount    Profit  Shipping.Cost Order.Priority  \n",
       "51146      0.40    -$3.60           1.07           High  \n",
       "43415      0.10    -$0.09           1.82           High  \n",
       "2646       0.00    $33.18         109.19           High  \n",
       "1723       0.25  -$282.56         147.98         Medium  \n",
       "2283       0.10   -$10.13         122.68       Critical  "
      ]
     },
     "execution_count": 5,
     "metadata": {},
     "output_type": "execute_result"
    }
   ],
   "source": [
    "orders.sample(5)"
   ]
  },
  {
   "cell_type": "code",
   "execution_count": 6,
   "metadata": {},
   "outputs": [
    {
     "data": {
      "text/plain": [
       "Row.ID              int64\n",
       "Order.ID           object\n",
       "Order.Date         object\n",
       "Ship.Date          object\n",
       "Ship.Mode          object\n",
       "Customer.ID        object\n",
       "Customer.Name      object\n",
       "Segment            object\n",
       "Postal.Code       float64\n",
       "City               object\n",
       "State              object\n",
       "Country            object\n",
       "Region             object\n",
       "Market             object\n",
       "Product.ID         object\n",
       "Category           object\n",
       "Sub.Category       object\n",
       "Product.Name       object\n",
       "Sales              object\n",
       "Quantity            int64\n",
       "Discount          float64\n",
       "Profit             object\n",
       "Shipping.Cost     float64\n",
       "Order.Priority     object\n",
       "dtype: object"
      ]
     },
     "execution_count": 6,
     "metadata": {},
     "output_type": "execute_result"
    }
   ],
   "source": [
    "orders.dtypes"
   ]
  },
  {
   "cell_type": "code",
   "execution_count": 7,
   "metadata": {},
   "outputs": [],
   "source": [
    "# convert Profit and Sales columns to numeric type. \n",
    "import re\n",
    "orders.Profit = orders.Profit.map(lambda x: float(re.sub('[$,]', '', x)))\n",
    "orders.Sales = orders.Sales.map(lambda x: float(re.sub('[,$]', '', x)))"
   ]
  },
  {
   "cell_type": "code",
   "execution_count": 8,
   "metadata": {},
   "outputs": [
    {
     "data": {
      "text/html": [
       "<div>\n",
       "<style scoped>\n",
       "    .dataframe tbody tr th:only-of-type {\n",
       "        vertical-align: middle;\n",
       "    }\n",
       "\n",
       "    .dataframe tbody tr th {\n",
       "        vertical-align: top;\n",
       "    }\n",
       "\n",
       "    .dataframe thead th {\n",
       "        text-align: right;\n",
       "    }\n",
       "</style>\n",
       "<table border=\"1\" class=\"dataframe\">\n",
       "  <thead>\n",
       "    <tr style=\"text-align: right;\">\n",
       "      <th></th>\n",
       "      <th>Row.ID</th>\n",
       "      <th>Order.ID</th>\n",
       "      <th>Order.Date</th>\n",
       "      <th>Ship.Date</th>\n",
       "      <th>Ship.Mode</th>\n",
       "      <th>Customer.ID</th>\n",
       "      <th>Customer.Name</th>\n",
       "      <th>Segment</th>\n",
       "      <th>Postal.Code</th>\n",
       "      <th>City</th>\n",
       "      <th>State</th>\n",
       "      <th>Country</th>\n",
       "      <th>Region</th>\n",
       "      <th>Market</th>\n",
       "      <th>Product.ID</th>\n",
       "      <th>Category</th>\n",
       "      <th>Sub.Category</th>\n",
       "      <th>Product.Name</th>\n",
       "      <th>Sales</th>\n",
       "      <th>Quantity</th>\n",
       "      <th>Discount</th>\n",
       "      <th>Profit</th>\n",
       "      <th>Shipping.Cost</th>\n",
       "      <th>Order.Priority</th>\n",
       "    </tr>\n",
       "  </thead>\n",
       "  <tbody>\n",
       "    <tr>\n",
       "      <th>17763</th>\n",
       "      <td>38934</td>\n",
       "      <td>CA-2015-DB13555140-42066</td>\n",
       "      <td>3/3/15</td>\n",
       "      <td>3/9/15</td>\n",
       "      <td>Standard Class</td>\n",
       "      <td>DB-135551406</td>\n",
       "      <td>Dorothy Badders</td>\n",
       "      <td>Corporate</td>\n",
       "      <td>19711.0</td>\n",
       "      <td>Newark</td>\n",
       "      <td>Delaware</td>\n",
       "      <td>United States</td>\n",
       "      <td>Eastern US</td>\n",
       "      <td>USCA</td>\n",
       "      <td>OFF-AR-5319</td>\n",
       "      <td>Office Supplies</td>\n",
       "      <td>Art</td>\n",
       "      <td>Newell 34</td>\n",
       "      <td>59.52</td>\n",
       "      <td>3</td>\n",
       "      <td>0.0</td>\n",
       "      <td>15.48</td>\n",
       "      <td>4.34</td>\n",
       "      <td>Medium</td>\n",
       "    </tr>\n",
       "    <tr>\n",
       "      <th>38323</th>\n",
       "      <td>38091</td>\n",
       "      <td>CA-2013-MC17605140-41594</td>\n",
       "      <td>11/16/13</td>\n",
       "      <td>11/20/13</td>\n",
       "      <td>Standard Class</td>\n",
       "      <td>MC-176051402</td>\n",
       "      <td>Matt Connell</td>\n",
       "      <td>Corporate</td>\n",
       "      <td>60610.0</td>\n",
       "      <td>Chicago</td>\n",
       "      <td>Illinois</td>\n",
       "      <td>United States</td>\n",
       "      <td>Central US</td>\n",
       "      <td>USCA</td>\n",
       "      <td>TEC-PH-4793</td>\n",
       "      <td>Technology</td>\n",
       "      <td>Phones</td>\n",
       "      <td>HTC One</td>\n",
       "      <td>239.98</td>\n",
       "      <td>3</td>\n",
       "      <td>0.2</td>\n",
       "      <td>27.00</td>\n",
       "      <td>15.01</td>\n",
       "      <td>Medium</td>\n",
       "    </tr>\n",
       "    <tr>\n",
       "      <th>3475</th>\n",
       "      <td>36993</td>\n",
       "      <td>CA-2015-AG10765140-42292</td>\n",
       "      <td>10/15/15</td>\n",
       "      <td>10/19/15</td>\n",
       "      <td>Standard Class</td>\n",
       "      <td>AG-107651402</td>\n",
       "      <td>Anthony Garverick</td>\n",
       "      <td>Home Office</td>\n",
       "      <td>60623.0</td>\n",
       "      <td>Chicago</td>\n",
       "      <td>Illinois</td>\n",
       "      <td>United States</td>\n",
       "      <td>Central US</td>\n",
       "      <td>USCA</td>\n",
       "      <td>OFF-BI-4371</td>\n",
       "      <td>Office Supplies</td>\n",
       "      <td>Binders</td>\n",
       "      <td>GBC Twin Loop Wire Binding Elements, 9/16\" Spi...</td>\n",
       "      <td>27.40</td>\n",
       "      <td>9</td>\n",
       "      <td>0.8</td>\n",
       "      <td>-42.46</td>\n",
       "      <td>1.18</td>\n",
       "      <td>Medium</td>\n",
       "    </tr>\n",
       "    <tr>\n",
       "      <th>40505</th>\n",
       "      <td>34107</td>\n",
       "      <td>CA-2013-MP18175140-41594</td>\n",
       "      <td>11/16/13</td>\n",
       "      <td>11/18/13</td>\n",
       "      <td>Second Class</td>\n",
       "      <td>MP-181751402</td>\n",
       "      <td>Mike Pelletier</td>\n",
       "      <td>Home Office</td>\n",
       "      <td>53209.0</td>\n",
       "      <td>Milwaukee</td>\n",
       "      <td>Wisconsin</td>\n",
       "      <td>United States</td>\n",
       "      <td>Central US</td>\n",
       "      <td>USCA</td>\n",
       "      <td>OFF-PA-6461</td>\n",
       "      <td>Office Supplies</td>\n",
       "      <td>Paper</td>\n",
       "      <td>Xerox 191</td>\n",
       "      <td>179.82</td>\n",
       "      <td>9</td>\n",
       "      <td>0.0</td>\n",
       "      <td>84.52</td>\n",
       "      <td>8.77</td>\n",
       "      <td>Medium</td>\n",
       "    </tr>\n",
       "    <tr>\n",
       "      <th>25398</th>\n",
       "      <td>44848</td>\n",
       "      <td>AG-2013-AA4803-41494</td>\n",
       "      <td>8/8/13</td>\n",
       "      <td>8/14/13</td>\n",
       "      <td>Standard Class</td>\n",
       "      <td>AA-4803</td>\n",
       "      <td>Andrew Allen</td>\n",
       "      <td>Consumer</td>\n",
       "      <td>NaN</td>\n",
       "      <td>Bechar</td>\n",
       "      <td>Bechar</td>\n",
       "      <td>Algeria</td>\n",
       "      <td>North Africa</td>\n",
       "      <td>Africa</td>\n",
       "      <td>FUR-FU-3941</td>\n",
       "      <td>Furniture</td>\n",
       "      <td>Furnishings</td>\n",
       "      <td>Deflect-O Frame, Duo Pack</td>\n",
       "      <td>110.10</td>\n",
       "      <td>1</td>\n",
       "      <td>0.0</td>\n",
       "      <td>8.79</td>\n",
       "      <td>7.95</td>\n",
       "      <td>Medium</td>\n",
       "    </tr>\n",
       "  </tbody>\n",
       "</table>\n",
       "</div>"
      ],
      "text/plain": [
       "       Row.ID                  Order.ID Order.Date Ship.Date       Ship.Mode  \\\n",
       "17763   38934  CA-2015-DB13555140-42066     3/3/15    3/9/15  Standard Class   \n",
       "38323   38091  CA-2013-MC17605140-41594   11/16/13  11/20/13  Standard Class   \n",
       "3475    36993  CA-2015-AG10765140-42292   10/15/15  10/19/15  Standard Class   \n",
       "40505   34107  CA-2013-MP18175140-41594   11/16/13  11/18/13    Second Class   \n",
       "25398   44848      AG-2013-AA4803-41494     8/8/13   8/14/13  Standard Class   \n",
       "\n",
       "        Customer.ID      Customer.Name      Segment  Postal.Code       City  \\\n",
       "17763  DB-135551406    Dorothy Badders    Corporate      19711.0     Newark   \n",
       "38323  MC-176051402       Matt Connell    Corporate      60610.0    Chicago   \n",
       "3475   AG-107651402  Anthony Garverick  Home Office      60623.0    Chicago   \n",
       "40505  MP-181751402     Mike Pelletier  Home Office      53209.0  Milwaukee   \n",
       "25398       AA-4803       Andrew Allen     Consumer          NaN     Bechar   \n",
       "\n",
       "           State        Country        Region  Market   Product.ID  \\\n",
       "17763   Delaware  United States    Eastern US    USCA  OFF-AR-5319   \n",
       "38323   Illinois  United States    Central US    USCA  TEC-PH-4793   \n",
       "3475    Illinois  United States    Central US    USCA  OFF-BI-4371   \n",
       "40505  Wisconsin  United States    Central US    USCA  OFF-PA-6461   \n",
       "25398     Bechar        Algeria  North Africa  Africa  FUR-FU-3941   \n",
       "\n",
       "              Category Sub.Category  \\\n",
       "17763  Office Supplies          Art   \n",
       "38323       Technology       Phones   \n",
       "3475   Office Supplies      Binders   \n",
       "40505  Office Supplies        Paper   \n",
       "25398        Furniture  Furnishings   \n",
       "\n",
       "                                            Product.Name   Sales  Quantity  \\\n",
       "17763                                          Newell 34   59.52         3   \n",
       "38323                                            HTC One  239.98         3   \n",
       "3475   GBC Twin Loop Wire Binding Elements, 9/16\" Spi...   27.40         9   \n",
       "40505                                          Xerox 191  179.82         9   \n",
       "25398                          Deflect-O Frame, Duo Pack  110.10         1   \n",
       "\n",
       "       Discount  Profit  Shipping.Cost Order.Priority  \n",
       "17763       0.0   15.48           4.34         Medium  \n",
       "38323       0.2   27.00          15.01         Medium  \n",
       "3475        0.8  -42.46           1.18         Medium  \n",
       "40505       0.0   84.52           8.77         Medium  \n",
       "25398       0.0    8.79           7.95         Medium  "
      ]
     },
     "execution_count": 8,
     "metadata": {},
     "output_type": "execute_result"
    }
   ],
   "source": [
    "orders.sample(5)"
   ]
  },
  {
   "cell_type": "markdown",
   "metadata": {},
   "source": [
    "### Problem 2: Inventory Management\n",
    "**Is there any seasonal sales trend in the company?**"
   ]
  },
  {
   "cell_type": "code",
   "execution_count": 9,
   "metadata": {},
   "outputs": [],
   "source": [
    "# Convert and mutate date columns\n",
    "orders['Order.Date'] = pd.to_datetime(orders['Order.Date'])\n",
    "orders['Ship.Date'] = pd.to_datetime(orders['Ship.Date'])\n",
    "orders['Order.Month'] = orders['Order.Date'].dt.month\n",
    "orders['Order.Day'] = orders['Order.Date'].dt.dayofyear"
   ]
  },
  {
   "cell_type": "code",
   "execution_count": 10,
   "metadata": {},
   "outputs": [
    {
     "data": {
      "text/plain": [
       "<matplotlib.axes._subplots.AxesSubplot at 0x7c2fac8>"
      ]
     },
     "execution_count": 10,
     "metadata": {},
     "output_type": "execute_result"
    },
    {
     "data": {
      "image/png": "[encoded data removed]",
      "text/plain": [
       "<Figure size 432x288 with 1 Axes>"
      ]
     },
     "metadata": {
      "needs_background": "light"
     },
     "output_type": "display_data"
    }
   ],
   "source": [
    "orders.groupby('Order.Day')['Quantity'].sum().plot()"
   ]
  },
  {
   "cell_type": "markdown",
   "metadata": {},
   "source": [
    "**This plots implies there is seasonal trend, so we can investigate if the series are influenced by the month.**"
   ]
  },
  {
   "cell_type": "code",
   "execution_count": 11,
   "metadata": {},
   "outputs": [
    {
     "data": {
      "text/plain": [
       "<matplotlib.axes._subplots.AxesSubplot at 0x8d67a20>"
      ]
     },
     "execution_count": 11,
     "metadata": {},
     "output_type": "execute_result"
    },
    {
     "data": {
      "image/png": "[encoded data removed]",
      "text/plain": [
       "<Figure size 432x288 with 1 Axes>"
      ]
     },
     "metadata": {
      "needs_background": "light"
     },
     "output_type": "display_data"
    }
   ],
   "source": [
    "orders.groupby('Order.Month')['Quantity'].sum().plot()"
   ]
  },
  {
   "cell_type": "markdown",
   "metadata": {},
   "source": [
    "**Is the seasonal trend the same for different categories?**"
   ]
  },
  {
   "cell_type": "code",
   "execution_count": 12,
   "metadata": {},
   "outputs": [
    {
     "data": {
      "image/png": "[encoded data removed]",
      "text/plain": [
       "<Figure size 432x288 with 1 Axes>"
      ]
     },
     "metadata": {
      "needs_background": "light"
     },
     "output_type": "display_data"
    }
   ],
   "source": [
    "for index, group in orders.groupby(['Category']):\n",
    "    group_agg = group.groupby(['Order.Month'])['Quantity'].sum()\n",
    "    group_agg.plot(y='Quantity', label=index, legend=True)"
   ]
  },
  {
   "cell_type": "markdown",
   "metadata": {},
   "source": [
    "**Looks like there is a peak during the holiday seasons and big drops in July and October.**"
   ]
  },
  {
   "cell_type": "markdown",
   "metadata": {},
   "source": [
    "### Problem 3: Why did customers make returns?\n",
    "**How much profit did we lose due to returns each year?**"
   ]
  },
  {
   "cell_type": "code",
   "execution_count": 13,
   "metadata": {},
   "outputs": [],
   "source": [
    "returns = pd.read_csv('data/Returns.csv')"
   ]
  },
  {
   "cell_type": "code",
   "execution_count": 14,
   "metadata": {},
   "outputs": [
    {
     "data": {
      "text/plain": [
       "(1079, 3)"
      ]
     },
     "execution_count": 14,
     "metadata": {},
     "output_type": "execute_result"
    }
   ],
   "source": [
    "returns.shape"
   ]
  },
  {
   "cell_type": "code",
   "execution_count": 15,
   "metadata": {},
   "outputs": [
    {
     "data": {
      "text/html": [
       "<div>\n",
       "<style scoped>\n",
       "    .dataframe tbody tr th:only-of-type {\n",
       "        vertical-align: middle;\n",
       "    }\n",
       "\n",
       "    .dataframe tbody tr th {\n",
       "        vertical-align: top;\n",
       "    }\n",
       "\n",
       "    .dataframe thead th {\n",
       "        text-align: right;\n",
       "    }\n",
       "</style>\n",
       "<table border=\"1\" class=\"dataframe\">\n",
       "  <thead>\n",
       "    <tr style=\"text-align: right;\">\n",
       "      <th></th>\n",
       "      <th>Returned</th>\n",
       "      <th>Order ID</th>\n",
       "      <th>Region</th>\n",
       "    </tr>\n",
       "  </thead>\n",
       "  <tbody>\n",
       "    <tr>\n",
       "      <th>270</th>\n",
       "      <td>Yes</td>\n",
       "      <td>MO-2014-MO795086-41706</td>\n",
       "      <td>North Africa</td>\n",
       "    </tr>\n",
       "    <tr>\n",
       "      <th>423</th>\n",
       "      <td>Yes</td>\n",
       "      <td>MX-2015-MY1829582-42321</td>\n",
       "      <td>Central America</td>\n",
       "    </tr>\n",
       "    <tr>\n",
       "      <th>767</th>\n",
       "      <td>Yes</td>\n",
       "      <td>IN-2014-IM1507058-41812</td>\n",
       "      <td>Southern Asia</td>\n",
       "    </tr>\n",
       "    <tr>\n",
       "      <th>166</th>\n",
       "      <td>Yes</td>\n",
       "      <td>SA-2013-JD6150110-41600</td>\n",
       "      <td>Western Asia</td>\n",
       "    </tr>\n",
       "    <tr>\n",
       "      <th>552</th>\n",
       "      <td>Yes</td>\n",
       "      <td>IN-2015-RH196007-42179</td>\n",
       "      <td>Oceania</td>\n",
       "    </tr>\n",
       "  </tbody>\n",
       "</table>\n",
       "</div>"
      ],
      "text/plain": [
       "    Returned                 Order ID           Region\n",
       "270      Yes   MO-2014-MO795086-41706     North Africa\n",
       "423      Yes  MX-2015-MY1829582-42321  Central America\n",
       "767      Yes  IN-2014-IM1507058-41812    Southern Asia\n",
       "166      Yes  SA-2013-JD6150110-41600     Western Asia\n",
       "552      Yes   IN-2015-RH196007-42179          Oceania"
      ]
     },
     "execution_count": 15,
     "metadata": {},
     "output_type": "execute_result"
    }
   ],
   "source": [
    "returns.sample(5)"
   ]
  },
  {
   "cell_type": "code",
   "execution_count": 16,
   "metadata": {},
   "outputs": [],
   "source": [
    "# Region is contained in both dataframes\n",
    "returns = returns.drop('Region', axis=1).merge(orders, how='left', left_on='Order ID', right_on='Order.ID')"
   ]
  },
  {
   "cell_type": "code",
   "execution_count": 17,
   "metadata": {},
   "outputs": [
    {
     "data": {
      "text/plain": [
       "(2220, 28)"
      ]
     },
     "execution_count": 17,
     "metadata": {},
     "output_type": "execute_result"
    }
   ],
   "source": [
    "returns.shape"
   ]
  },
  {
   "cell_type": "code",
   "execution_count": 18,
   "metadata": {},
   "outputs": [],
   "source": [
    "returns['Order.Year'] = returns['Order.Date'].dt.year"
   ]
  },
  {
   "cell_type": "code",
   "execution_count": 19,
   "metadata": {},
   "outputs": [
    {
     "data": {
      "text/plain": [
       "Returned                  object\n",
       "Order ID                  object\n",
       "Row.ID                     int64\n",
       "Order.ID                  object\n",
       "Order.Date        datetime64[ns]\n",
       "Ship.Date         datetime64[ns]\n",
       "Ship.Mode                 object\n",
       "Customer.ID               object\n",
       "Customer.Name             object\n",
       "Segment                   object\n",
       "Postal.Code              float64\n",
       "City                      object\n",
       "State                     object\n",
       "Country                   object\n",
       "Region                    object\n",
       "Market                    object\n",
       "Product.ID                object\n",
       "Category                  object\n",
       "Sub.Category              object\n",
       "Product.Name              object\n",
       "Sales                    float64\n",
       "Quantity                   int64\n",
       "Discount                 float64\n",
       "Profit                   float64\n",
       "Shipping.Cost            float64\n",
       "Order.Priority            object\n",
       "Order.Month                int64\n",
       "Order.Day                  int64\n",
       "Order.Year                 int64\n",
       "dtype: object"
      ]
     },
     "execution_count": 19,
     "metadata": {},
     "output_type": "execute_result"
    }
   ],
   "source": [
    "returns.dtypes"
   ]
  },
  {
   "cell_type": "code",
   "execution_count": 20,
   "metadata": {},
   "outputs": [
    {
     "data": {
      "text/plain": [
       "<matplotlib.axes._subplots.AxesSubplot at 0x89f25c0>"
      ]
     },
     "execution_count": 20,
     "metadata": {},
     "output_type": "execute_result"
    },
    {
     "data": {
      "image/png": "[encoded data removed]",
      "text/plain": [
       "<Figure size 432x288 with 1 Axes>"
      ]
     },
     "metadata": {
      "needs_background": "light"
     },
     "output_type": "display_data"
    }
   ],
   "source": [
    "# Profit could be negative so we need to sum the absolute values\n",
    "returns.groupby('Order.Year')['Profit'].apply(lambda c: c.abs().sum()).plot.bar()"
   ]
  },
  {
   "cell_type": "markdown",
   "metadata": {},
   "source": [
    "**How many customer returned more than once? more than 5 times?**"
   ]
  },
  {
   "cell_type": "code",
   "execution_count": 21,
   "metadata": {},
   "outputs": [
    {
     "data": {
      "text/plain": [
       "547"
      ]
     },
     "execution_count": 21,
     "metadata": {},
     "output_type": "execute_result"
    }
   ],
   "source": [
    "len(returns.groupby('Customer.ID').filter(lambda x: len(x) > 1)['Customer.ID'].unique())"
   ]
  },
  {
   "cell_type": "code",
   "execution_count": 22,
   "metadata": {},
   "outputs": [
    {
     "data": {
      "text/plain": [
       "46"
      ]
     },
     "execution_count": 22,
     "metadata": {},
     "output_type": "execute_result"
    }
   ],
   "source": [
    "len(returns.groupby('Customer.ID').filter(lambda x: len(x) > 5)['Customer.ID'].unique())"
   ]
  },
  {
   "cell_type": "markdown",
   "metadata": {},
   "source": [
    "**Which regions are more likely to return orders?**"
   ]
  },
  {
   "cell_type": "code",
   "execution_count": 23,
   "metadata": {},
   "outputs": [
    {
     "data": {
      "text/plain": [
       "<matplotlib.axes._subplots.AxesSubplot at 0x8a73ef0>"
      ]
     },
     "execution_count": 23,
     "metadata": {},
     "output_type": "execute_result"
    },
    {
     "data": {
      "image/png": "[encoded data removed]",
      "text/plain": [
       "<Figure size 432x288 with 1 Axes>"
      ]
     },
     "metadata": {
      "needs_background": "light"
     },
     "output_type": "display_data"
    }
   ],
   "source": [
    "returns.groupby('Region').size().sort_values(ascending=False).plot.bar()"
   ]
  },
  {
   "cell_type": "markdown",
   "metadata": {},
   "source": [
    "**Which categories (sub-categories) of products are more likely to be returned**"
   ]
  },
  {
   "cell_type": "code",
   "execution_count": 24,
   "metadata": {},
   "outputs": [
    {
     "data": {
      "text/plain": [
       "<matplotlib.axes._subplots.AxesSubplot at 0x9451630>"
      ]
     },
     "execution_count": 24,
     "metadata": {},
     "output_type": "execute_result"
    },
    {
     "data": {
      "image/png": "[encoded data removed]",
      "text/plain": [
       "<Figure size 432x288 with 1 Axes>"
      ]
     },
     "metadata": {
      "needs_background": "light"
     },
     "output_type": "display_data"
    }
   ],
   "source": [
    "returns.groupby('Category').size().sort_values(ascending=False).plot.bar()"
   ]
  },
  {
   "cell_type": "code",
   "execution_count": 25,
   "metadata": {},
   "outputs": [
    {
     "data": {
      "text/plain": [
       "<matplotlib.axes._subplots.AxesSubplot at 0x94a75c0>"
      ]
     },
     "execution_count": 25,
     "metadata": {},
     "output_type": "execute_result"
    },
    {
     "data": {
      "image/png": "[encoded data removed]",
      "text/plain": [
       "<Figure size 432x288 with 1 Axes>"
      ]
     },
     "metadata": {
      "needs_background": "light"
     },
     "output_type": "display_data"
    }
   ],
   "source": [
    "returns.groupby('Sub.Category').size().sort_values(ascending=False).plot.bar()"
   ]
  },
  {
   "cell_type": "markdown",
   "metadata": {},
   "source": [
    "## Part II: Machine Learning and Business Use-Case\n",
    "\n",
    "Now your manager has a basic idea of why customers returned orders. Next, he wants you to use machine learning to predict which orders are most likely to be returned. In this part, you will generate several features based on our previous findings and your manager's requirements."
   ]
  },
  {
   "cell_type": "markdown",
   "metadata": {},
   "source": [
    "### Problem 4: Feature Engineering\n",
    "#### Step 1: Create the dependent variable"
   ]
  },
  {
   "cell_type": "code",
   "execution_count": 26,
   "metadata": {},
   "outputs": [],
   "source": [
    "orders['Returned'] = orders['Order.ID'].isin(returns['Order ID'])\n",
    "orders['Returned'] = orders['Returned'].map(lambda x: 1 if x is True else 0)"
   ]
  },
  {
   "cell_type": "code",
   "execution_count": 27,
   "metadata": {},
   "outputs": [
    {
     "data": {
      "text/html": [
       "<div>\n",
       "<style scoped>\n",
       "    .dataframe tbody tr th:only-of-type {\n",
       "        vertical-align: middle;\n",
       "    }\n",
       "\n",
       "    .dataframe tbody tr th {\n",
       "        vertical-align: top;\n",
       "    }\n",
       "\n",
       "    .dataframe thead th {\n",
       "        text-align: right;\n",
       "    }\n",
       "</style>\n",
       "<table border=\"1\" class=\"dataframe\">\n",
       "  <thead>\n",
       "    <tr style=\"text-align: right;\">\n",
       "      <th></th>\n",
       "      <th>Row.ID</th>\n",
       "      <th>Order.ID</th>\n",
       "      <th>Order.Date</th>\n",
       "      <th>Ship.Date</th>\n",
       "      <th>Ship.Mode</th>\n",
       "      <th>Customer.ID</th>\n",
       "      <th>Customer.Name</th>\n",
       "      <th>Segment</th>\n",
       "      <th>Postal.Code</th>\n",
       "      <th>City</th>\n",
       "      <th>State</th>\n",
       "      <th>Country</th>\n",
       "      <th>Region</th>\n",
       "      <th>Market</th>\n",
       "      <th>Product.ID</th>\n",
       "      <th>Category</th>\n",
       "      <th>Sub.Category</th>\n",
       "      <th>Product.Name</th>\n",
       "      <th>Sales</th>\n",
       "      <th>Quantity</th>\n",
       "      <th>Discount</th>\n",
       "      <th>Profit</th>\n",
       "      <th>Shipping.Cost</th>\n",
       "      <th>Order.Priority</th>\n",
       "      <th>Order.Month</th>\n",
       "      <th>Order.Day</th>\n",
       "      <th>Returned</th>\n",
       "    </tr>\n",
       "  </thead>\n",
       "  <tbody>\n",
       "    <tr>\n",
       "      <th>4165</th>\n",
       "      <td>22483</td>\n",
       "      <td>IN-2012-RR1952527-41162</td>\n",
       "      <td>2012-09-10</td>\n",
       "      <td>2012-09-12</td>\n",
       "      <td>Second Class</td>\n",
       "      <td>RR-1952527</td>\n",
       "      <td>Rick Reed</td>\n",
       "      <td>Corporate</td>\n",
       "      <td>NaN</td>\n",
       "      <td>Shanghai</td>\n",
       "      <td>Shanghai</td>\n",
       "      <td>China</td>\n",
       "      <td>Eastern Asia</td>\n",
       "      <td>Asia Pacific</td>\n",
       "      <td>OFF-AP-4510</td>\n",
       "      <td>Office Supplies</td>\n",
       "      <td>Appliances</td>\n",
       "      <td>Hamilton Beach Toaster, Red</td>\n",
       "      <td>287.55</td>\n",
       "      <td>5</td>\n",
       "      <td>0.0</td>\n",
       "      <td>123.60</td>\n",
       "      <td>77.64</td>\n",
       "      <td>High</td>\n",
       "      <td>9</td>\n",
       "      <td>254</td>\n",
       "      <td>0</td>\n",
       "    </tr>\n",
       "    <tr>\n",
       "      <th>36081</th>\n",
       "      <td>44330</td>\n",
       "      <td>NI-2015-TC1098095-42033</td>\n",
       "      <td>2015-01-29</td>\n",
       "      <td>2015-01-29</td>\n",
       "      <td>Same Day</td>\n",
       "      <td>TC-1098095</td>\n",
       "      <td>Tamara Chand</td>\n",
       "      <td>Corporate</td>\n",
       "      <td>NaN</td>\n",
       "      <td>Aba</td>\n",
       "      <td>Abia</td>\n",
       "      <td>Nigeria</td>\n",
       "      <td>Western Africa</td>\n",
       "      <td>Africa</td>\n",
       "      <td>FUR-CH-4633</td>\n",
       "      <td>Furniture</td>\n",
       "      <td>Chairs</td>\n",
       "      <td>Hon Chairmat, Set of Two</td>\n",
       "      <td>17.33</td>\n",
       "      <td>1</td>\n",
       "      <td>0.7</td>\n",
       "      <td>-27.76</td>\n",
       "      <td>3.27</td>\n",
       "      <td>High</td>\n",
       "      <td>1</td>\n",
       "      <td>29</td>\n",
       "      <td>0</td>\n",
       "    </tr>\n",
       "    <tr>\n",
       "      <th>49357</th>\n",
       "      <td>36800</td>\n",
       "      <td>CA-2015-TH21115140-42311</td>\n",
       "      <td>2015-11-03</td>\n",
       "      <td>2015-11-07</td>\n",
       "      <td>Standard Class</td>\n",
       "      <td>TH-211151406</td>\n",
       "      <td>Thea Hudgings</td>\n",
       "      <td>Corporate</td>\n",
       "      <td>19140.0</td>\n",
       "      <td>Philadelphia</td>\n",
       "      <td>Pennsylvania</td>\n",
       "      <td>United States</td>\n",
       "      <td>Eastern US</td>\n",
       "      <td>USCA</td>\n",
       "      <td>OFF-AP-3505</td>\n",
       "      <td>Office Supplies</td>\n",
       "      <td>Appliances</td>\n",
       "      <td>Black &amp; Decker Filter for Double Action Dustbu...</td>\n",
       "      <td>20.14</td>\n",
       "      <td>3</td>\n",
       "      <td>0.2</td>\n",
       "      <td>1.26</td>\n",
       "      <td>1.87</td>\n",
       "      <td>Medium</td>\n",
       "      <td>11</td>\n",
       "      <td>307</td>\n",
       "      <td>0</td>\n",
       "    </tr>\n",
       "    <tr>\n",
       "      <th>31291</th>\n",
       "      <td>32315</td>\n",
       "      <td>CA-2013-KM16225140-41461</td>\n",
       "      <td>2013-07-06</td>\n",
       "      <td>2013-07-10</td>\n",
       "      <td>Standard Class</td>\n",
       "      <td>KM-162251406</td>\n",
       "      <td>Kalyca Meade</td>\n",
       "      <td>Corporate</td>\n",
       "      <td>10011.0</td>\n",
       "      <td>New York City</td>\n",
       "      <td>New York</td>\n",
       "      <td>United States</td>\n",
       "      <td>Eastern US</td>\n",
       "      <td>USCA</td>\n",
       "      <td>TEC-PH-5533</td>\n",
       "      <td>Technology</td>\n",
       "      <td>Phones</td>\n",
       "      <td>OtterBox Commuter Series Case - Samsung Galaxy S4</td>\n",
       "      <td>124.95</td>\n",
       "      <td>5</td>\n",
       "      <td>0.0</td>\n",
       "      <td>2.50</td>\n",
       "      <td>13.57</td>\n",
       "      <td>High</td>\n",
       "      <td>7</td>\n",
       "      <td>187</td>\n",
       "      <td>0</td>\n",
       "    </tr>\n",
       "    <tr>\n",
       "      <th>42539</th>\n",
       "      <td>22656</td>\n",
       "      <td>IN-2014-BT113957-41696</td>\n",
       "      <td>2014-02-26</td>\n",
       "      <td>2014-03-05</td>\n",
       "      <td>Standard Class</td>\n",
       "      <td>BT-113957</td>\n",
       "      <td>Bill Tyler</td>\n",
       "      <td>Corporate</td>\n",
       "      <td>NaN</td>\n",
       "      <td>Brisbane</td>\n",
       "      <td>Queensland</td>\n",
       "      <td>Australia</td>\n",
       "      <td>Oceania</td>\n",
       "      <td>Asia Pacific</td>\n",
       "      <td>OFF-FA-3053</td>\n",
       "      <td>Office Supplies</td>\n",
       "      <td>Fasteners</td>\n",
       "      <td>Advantus Push Pins, 12 Pack</td>\n",
       "      <td>12.47</td>\n",
       "      <td>1</td>\n",
       "      <td>0.1</td>\n",
       "      <td>5.54</td>\n",
       "      <td>1.90</td>\n",
       "      <td>Medium</td>\n",
       "      <td>2</td>\n",
       "      <td>57</td>\n",
       "      <td>0</td>\n",
       "    </tr>\n",
       "  </tbody>\n",
       "</table>\n",
       "</div>"
      ],
      "text/plain": [
       "       Row.ID                  Order.ID Order.Date  Ship.Date       Ship.Mode  \\\n",
       "4165    22483   IN-2012-RR1952527-41162 2012-09-10 2012-09-12    Second Class   \n",
       "36081   44330   NI-2015-TC1098095-42033 2015-01-29 2015-01-29        Same Day   \n",
       "49357   36800  CA-2015-TH21115140-42311 2015-11-03 2015-11-07  Standard Class   \n",
       "31291   32315  CA-2013-KM16225140-41461 2013-07-06 2013-07-10  Standard Class   \n",
       "42539   22656    IN-2014-BT113957-41696 2014-02-26 2014-03-05  Standard Class   \n",
       "\n",
       "        Customer.ID  Customer.Name    Segment  Postal.Code           City  \\\n",
       "4165     RR-1952527      Rick Reed  Corporate          NaN       Shanghai   \n",
       "36081    TC-1098095   Tamara Chand  Corporate          NaN            Aba   \n",
       "49357  TH-211151406  Thea Hudgings  Corporate      19140.0   Philadelphia   \n",
       "31291  KM-162251406   Kalyca Meade  Corporate      10011.0  New York City   \n",
       "42539     BT-113957     Bill Tyler  Corporate          NaN       Brisbane   \n",
       "\n",
       "              State        Country          Region        Market   Product.ID  \\\n",
       "4165       Shanghai          China    Eastern Asia  Asia Pacific  OFF-AP-4510   \n",
       "36081          Abia        Nigeria  Western Africa        Africa  FUR-CH-4633   \n",
       "49357  Pennsylvania  United States      Eastern US          USCA  OFF-AP-3505   \n",
       "31291      New York  United States      Eastern US          USCA  TEC-PH-5533   \n",
       "42539    Queensland      Australia         Oceania  Asia Pacific  OFF-FA-3053   \n",
       "\n",
       "              Category Sub.Category  \\\n",
       "4165   Office Supplies   Appliances   \n",
       "36081        Furniture       Chairs   \n",
       "49357  Office Supplies   Appliances   \n",
       "31291       Technology       Phones   \n",
       "42539  Office Supplies    Fasteners   \n",
       "\n",
       "                                            Product.Name   Sales  Quantity  \\\n",
       "4165                         Hamilton Beach Toaster, Red  287.55         5   \n",
       "36081                           Hon Chairmat, Set of Two   17.33         1   \n",
       "49357  Black & Decker Filter for Double Action Dustbu...   20.14         3   \n",
       "31291  OtterBox Commuter Series Case - Samsung Galaxy S4  124.95         5   \n",
       "42539                        Advantus Push Pins, 12 Pack   12.47         1   \n",
       "\n",
       "       Discount  Profit  Shipping.Cost Order.Priority  Order.Month  Order.Day  \\\n",
       "4165        0.0  123.60          77.64           High            9        254   \n",
       "36081       0.7  -27.76           3.27           High            1         29   \n",
       "49357       0.2    1.26           1.87         Medium           11        307   \n",
       "31291       0.0    2.50          13.57           High            7        187   \n",
       "42539       0.1    5.54           1.90         Medium            2         57   \n",
       "\n",
       "       Returned  \n",
       "4165          0  \n",
       "36081         0  \n",
       "49357         0  \n",
       "31291         0  \n",
       "42539         0  "
      ]
     },
     "execution_count": 27,
     "metadata": {},
     "output_type": "execute_result"
    }
   ],
   "source": [
    "orders.sample(5)"
   ]
  },
  {
   "cell_type": "markdown",
   "metadata": {},
   "source": [
    "#### Step 2: Time to ship feature"
   ]
  },
  {
   "cell_type": "code",
   "execution_count": 28,
   "metadata": {},
   "outputs": [
    {
     "data": {
      "text/plain": [
       "0    2\n",
       "1    2\n",
       "2    1\n",
       "3    2\n",
       "4    1\n",
       "Name: Process.Time, dtype: int64"
      ]
     },
     "execution_count": 28,
     "metadata": {},
     "output_type": "execute_result"
    }
   ],
   "source": [
    "orders['Process.Time'] = orders['Ship.Date']- orders['Order.Date']\n",
    "orders['Process.Time'] = orders['Process.Time'].dt.days\n",
    "orders['Process.Time'].head()"
   ]
  },
  {
   "cell_type": "markdown",
   "metadata": {},
   "source": [
    "#### Step 3: Number of return times"
   ]
  },
  {
   "cell_type": "code",
   "execution_count": 29,
   "metadata": {},
   "outputs": [
    {
     "data": {
      "text/html": [
       "<div>\n",
       "<style scoped>\n",
       "    .dataframe tbody tr th:only-of-type {\n",
       "        vertical-align: middle;\n",
       "    }\n",
       "\n",
       "    .dataframe tbody tr th {\n",
       "        vertical-align: top;\n",
       "    }\n",
       "\n",
       "    .dataframe thead th {\n",
       "        text-align: right;\n",
       "    }\n",
       "</style>\n",
       "<table border=\"1\" class=\"dataframe\">\n",
       "  <thead>\n",
       "    <tr style=\"text-align: right;\">\n",
       "      <th></th>\n",
       "      <th>Product.ID</th>\n",
       "      <th>Return.Times</th>\n",
       "    </tr>\n",
       "  </thead>\n",
       "  <tbody>\n",
       "    <tr>\n",
       "      <th>0</th>\n",
       "      <td>FUR-BO-3176</td>\n",
       "      <td>1</td>\n",
       "    </tr>\n",
       "    <tr>\n",
       "      <th>1</th>\n",
       "      <td>FUR-BO-3615</td>\n",
       "      <td>1</td>\n",
       "    </tr>\n",
       "    <tr>\n",
       "      <th>2</th>\n",
       "      <td>FUR-BO-3616</td>\n",
       "      <td>1</td>\n",
       "    </tr>\n",
       "    <tr>\n",
       "      <th>3</th>\n",
       "      <td>FUR-BO-3621</td>\n",
       "      <td>1</td>\n",
       "    </tr>\n",
       "    <tr>\n",
       "      <th>4</th>\n",
       "      <td>FUR-BO-3624</td>\n",
       "      <td>2</td>\n",
       "    </tr>\n",
       "  </tbody>\n",
       "</table>\n",
       "</div>"
      ],
      "text/plain": [
       "    Product.ID  Return.Times\n",
       "0  FUR-BO-3176             1\n",
       "1  FUR-BO-3615             1\n",
       "2  FUR-BO-3616             1\n",
       "3  FUR-BO-3621             1\n",
       "4  FUR-BO-3624             2"
      ]
     },
     "execution_count": 29,
     "metadata": {},
     "output_type": "execute_result"
    }
   ],
   "source": [
    "# Need a dataframe to merge later\n",
    "return_summary = returns.groupby('Product.ID').size().reset_index(name ='Return.Times')\n",
    "return_summary.head()"
   ]
  },
  {
   "cell_type": "code",
   "execution_count": 30,
   "metadata": {},
   "outputs": [],
   "source": [
    "orders = orders.merge(return_summary, how='left', on='Product.ID', suffixes=['', '_'])\n",
    "orders['Return.Times'] = orders['Return.Times'].fillna(0)"
   ]
  },
  {
   "cell_type": "markdown",
   "metadata": {},
   "source": [
    "### Problem 5: Fitting Models"
   ]
  },
  {
   "cell_type": "markdown",
   "metadata": {},
   "source": [
    "#### Step 1: Select the columns to use"
   ]
  },
  {
   "cell_type": "code",
   "execution_count": 31,
   "metadata": {},
   "outputs": [],
   "source": [
    "use_columns = ['Sales', 'Quantity', 'Discount', 'Process.Time', 'Return.Times', 'Shipping.Cost', 'Segment',\n",
    "               'Ship.Mode', 'Region', 'Category', 'Order.Month', 'Order.Priority','Profit']"
   ]
  },
  {
   "cell_type": "code",
   "execution_count": 32,
   "metadata": {},
   "outputs": [],
   "source": [
    "X = pd.get_dummies(orders[use_columns], drop_first=True, dummy_na=True)\n",
    "y = orders['Returned']"
   ]
  },
  {
   "cell_type": "code",
   "execution_count": 34,
   "metadata": {},
   "outputs": [
    {
     "data": {
      "text/html": [
       "<div>\n",
       "<style scoped>\n",
       "    .dataframe tbody tr th:only-of-type {\n",
       "        vertical-align: middle;\n",
       "    }\n",
       "\n",
       "    .dataframe tbody tr th {\n",
       "        vertical-align: top;\n",
       "    }\n",
       "\n",
       "    .dataframe thead th {\n",
       "        text-align: right;\n",
       "    }\n",
       "</style>\n",
       "<table border=\"1\" class=\"dataframe\">\n",
       "  <thead>\n",
       "    <tr style=\"text-align: right;\">\n",
       "      <th></th>\n",
       "      <th>Sales</th>\n",
       "      <th>Quantity</th>\n",
       "      <th>Discount</th>\n",
       "      <th>Process.Time</th>\n",
       "      <th>Return.Times</th>\n",
       "      <th>Shipping.Cost</th>\n",
       "      <th>Order.Month</th>\n",
       "      <th>Profit</th>\n",
       "      <th>Segment_Corporate</th>\n",
       "      <th>Segment_Home Office</th>\n",
       "      <th>Segment_nan</th>\n",
       "      <th>Ship.Mode_Same Day</th>\n",
       "      <th>Ship.Mode_Second Class</th>\n",
       "      <th>Ship.Mode_Standard Class</th>\n",
       "      <th>Ship.Mode_nan</th>\n",
       "      <th>...</th>\n",
       "      <th>Region_Southern Asia</th>\n",
       "      <th>Region_Southern Europe</th>\n",
       "      <th>Region_Southern US</th>\n",
       "      <th>Region_Western Africa</th>\n",
       "      <th>Region_Western Asia</th>\n",
       "      <th>Region_Western Europe</th>\n",
       "      <th>Region_Western US</th>\n",
       "      <th>Region_nan</th>\n",
       "      <th>Category_Office Supplies</th>\n",
       "      <th>Category_Technology</th>\n",
       "      <th>Category_nan</th>\n",
       "      <th>Order.Priority_High</th>\n",
       "      <th>Order.Priority_Low</th>\n",
       "      <th>Order.Priority_Medium</th>\n",
       "      <th>Order.Priority_nan</th>\n",
       "    </tr>\n",
       "  </thead>\n",
       "  <tbody>\n",
       "    <tr>\n",
       "      <th>0</th>\n",
       "      <td>221.98</td>\n",
       "      <td>2</td>\n",
       "      <td>0.0</td>\n",
       "      <td>2</td>\n",
       "      <td>0.0</td>\n",
       "      <td>40.77</td>\n",
       "      <td>11</td>\n",
       "      <td>62.15</td>\n",
       "      <td>0</td>\n",
       "      <td>0</td>\n",
       "      <td>0</td>\n",
       "      <td>0</td>\n",
       "      <td>0</td>\n",
       "      <td>0</td>\n",
       "      <td>0</td>\n",
       "      <td>...</td>\n",
       "      <td>0</td>\n",
       "      <td>0</td>\n",
       "      <td>0</td>\n",
       "      <td>0</td>\n",
       "      <td>0</td>\n",
       "      <td>0</td>\n",
       "      <td>0</td>\n",
       "      <td>0</td>\n",
       "      <td>0</td>\n",
       "      <td>1</td>\n",
       "      <td>0</td>\n",
       "      <td>1</td>\n",
       "      <td>0</td>\n",
       "      <td>0</td>\n",
       "      <td>0</td>\n",
       "    </tr>\n",
       "    <tr>\n",
       "      <th>1</th>\n",
       "      <td>3709.40</td>\n",
       "      <td>9</td>\n",
       "      <td>0.1</td>\n",
       "      <td>2</td>\n",
       "      <td>2.0</td>\n",
       "      <td>923.63</td>\n",
       "      <td>2</td>\n",
       "      <td>-288.77</td>\n",
       "      <td>1</td>\n",
       "      <td>0</td>\n",
       "      <td>0</td>\n",
       "      <td>0</td>\n",
       "      <td>1</td>\n",
       "      <td>0</td>\n",
       "      <td>0</td>\n",
       "      <td>...</td>\n",
       "      <td>0</td>\n",
       "      <td>0</td>\n",
       "      <td>0</td>\n",
       "      <td>0</td>\n",
       "      <td>0</td>\n",
       "      <td>0</td>\n",
       "      <td>0</td>\n",
       "      <td>0</td>\n",
       "      <td>0</td>\n",
       "      <td>0</td>\n",
       "      <td>0</td>\n",
       "      <td>0</td>\n",
       "      <td>0</td>\n",
       "      <td>0</td>\n",
       "      <td>0</td>\n",
       "    </tr>\n",
       "    <tr>\n",
       "      <th>2</th>\n",
       "      <td>5175.17</td>\n",
       "      <td>9</td>\n",
       "      <td>0.1</td>\n",
       "      <td>1</td>\n",
       "      <td>2.0</td>\n",
       "      <td>915.49</td>\n",
       "      <td>10</td>\n",
       "      <td>919.97</td>\n",
       "      <td>0</td>\n",
       "      <td>0</td>\n",
       "      <td>0</td>\n",
       "      <td>0</td>\n",
       "      <td>0</td>\n",
       "      <td>0</td>\n",
       "      <td>0</td>\n",
       "      <td>...</td>\n",
       "      <td>0</td>\n",
       "      <td>0</td>\n",
       "      <td>0</td>\n",
       "      <td>0</td>\n",
       "      <td>0</td>\n",
       "      <td>0</td>\n",
       "      <td>0</td>\n",
       "      <td>0</td>\n",
       "      <td>0</td>\n",
       "      <td>1</td>\n",
       "      <td>0</td>\n",
       "      <td>0</td>\n",
       "      <td>0</td>\n",
       "      <td>1</td>\n",
       "      <td>0</td>\n",
       "    </tr>\n",
       "    <tr>\n",
       "      <th>3</th>\n",
       "      <td>2892.51</td>\n",
       "      <td>5</td>\n",
       "      <td>0.1</td>\n",
       "      <td>2</td>\n",
       "      <td>0.0</td>\n",
       "      <td>910.16</td>\n",
       "      <td>1</td>\n",
       "      <td>-96.54</td>\n",
       "      <td>0</td>\n",
       "      <td>1</td>\n",
       "      <td>0</td>\n",
       "      <td>0</td>\n",
       "      <td>0</td>\n",
       "      <td>0</td>\n",
       "      <td>0</td>\n",
       "      <td>...</td>\n",
       "      <td>0</td>\n",
       "      <td>0</td>\n",
       "      <td>0</td>\n",
       "      <td>0</td>\n",
       "      <td>0</td>\n",
       "      <td>1</td>\n",
       "      <td>0</td>\n",
       "      <td>0</td>\n",
       "      <td>0</td>\n",
       "      <td>1</td>\n",
       "      <td>0</td>\n",
       "      <td>0</td>\n",
       "      <td>0</td>\n",
       "      <td>1</td>\n",
       "      <td>0</td>\n",
       "    </tr>\n",
       "    <tr>\n",
       "      <th>4</th>\n",
       "      <td>2832.96</td>\n",
       "      <td>8</td>\n",
       "      <td>0.0</td>\n",
       "      <td>1</td>\n",
       "      <td>0.0</td>\n",
       "      <td>903.04</td>\n",
       "      <td>11</td>\n",
       "      <td>311.52</td>\n",
       "      <td>0</td>\n",
       "      <td>0</td>\n",
       "      <td>0</td>\n",
       "      <td>1</td>\n",
       "      <td>0</td>\n",
       "      <td>0</td>\n",
       "      <td>0</td>\n",
       "      <td>...</td>\n",
       "      <td>0</td>\n",
       "      <td>0</td>\n",
       "      <td>0</td>\n",
       "      <td>1</td>\n",
       "      <td>0</td>\n",
       "      <td>0</td>\n",
       "      <td>0</td>\n",
       "      <td>0</td>\n",
       "      <td>0</td>\n",
       "      <td>1</td>\n",
       "      <td>0</td>\n",
       "      <td>0</td>\n",
       "      <td>0</td>\n",
       "      <td>0</td>\n",
       "      <td>0</td>\n",
       "    </tr>\n",
       "  </tbody>\n",
       "</table>\n",
       "<p>5 rows × 45 columns</p>\n",
       "</div>"
      ],
      "text/plain": [
       "     Sales  Quantity  Discount  Process.Time  Return.Times  Shipping.Cost  \\\n",
       "0   221.98         2       0.0             2           0.0          40.77   \n",
       "1  3709.40         9       0.1             2           2.0         923.63   \n",
       "2  5175.17         9       0.1             1           2.0         915.49   \n",
       "3  2892.51         5       0.1             2           0.0         910.16   \n",
       "4  2832.96         8       0.0             1           0.0         903.04   \n",
       "\n",
       "   Order.Month  Profit  Segment_Corporate  Segment_Home Office  Segment_nan  \\\n",
       "0           11   62.15                  0                    0            0   \n",
       "1            2 -288.77                  1                    0            0   \n",
       "2           10  919.97                  0                    0            0   \n",
       "3            1  -96.54                  0                    1            0   \n",
       "4           11  311.52                  0                    0            0   \n",
       "\n",
       "   Ship.Mode_Same Day  Ship.Mode_Second Class  Ship.Mode_Standard Class  \\\n",
       "0                   0                       0                         0   \n",
       "1                   0                       1                         0   \n",
       "2                   0                       0                         0   \n",
       "3                   0                       0                         0   \n",
       "4                   1                       0                         0   \n",
       "\n",
       "   Ship.Mode_nan         ...          Region_Southern Asia  \\\n",
       "0              0         ...                             0   \n",
       "1              0         ...                             0   \n",
       "2              0         ...                             0   \n",
       "3              0         ...                             0   \n",
       "4              0         ...                             0   \n",
       "\n",
       "   Region_Southern Europe  Region_Southern US  Region_Western Africa  \\\n",
       "0                       0                   0                      0   \n",
       "1                       0                   0                      0   \n",
       "2                       0                   0                      0   \n",
       "3                       0                   0                      0   \n",
       "4                       0                   0                      1   \n",
       "\n",
       "   Region_Western Asia  Region_Western Europe  Region_Western US  Region_nan  \\\n",
       "0                    0                      0                  0           0   \n",
       "1                    0                      0                  0           0   \n",
       "2                    0                      0                  0           0   \n",
       "3                    0                      1                  0           0   \n",
       "4                    0                      0                  0           0   \n",
       "\n",
       "   Category_Office Supplies  Category_Technology  Category_nan  \\\n",
       "0                         0                    1             0   \n",
       "1                         0                    0             0   \n",
       "2                         0                    1             0   \n",
       "3                         0                    1             0   \n",
       "4                         0                    1             0   \n",
       "\n",
       "   Order.Priority_High  Order.Priority_Low  Order.Priority_Medium  \\\n",
       "0                    1                   0                      0   \n",
       "1                    0                   0                      0   \n",
       "2                    0                   0                      1   \n",
       "3                    0                   0                      1   \n",
       "4                    0                   0                      0   \n",
       "\n",
       "   Order.Priority_nan  \n",
       "0                   0  \n",
       "1                   0  \n",
       "2                   0  \n",
       "3                   0  \n",
       "4                   0  \n",
       "\n",
       "[5 rows x 45 columns]"
      ]
     },
     "execution_count": 34,
     "metadata": {},
     "output_type": "execute_result"
    }
   ],
   "source": [
    "X.head()"
   ]
  },
  {
   "cell_type": "code",
   "execution_count": 35,
   "metadata": {},
   "outputs": [
    {
     "data": {
      "text/plain": [
       "0    0\n",
       "1    0\n",
       "2    0\n",
       "3    0\n",
       "4    0\n",
       "Name: Returned, dtype: int64"
      ]
     },
     "execution_count": 35,
     "metadata": {},
     "output_type": "execute_result"
    }
   ],
   "source": [
    "y.head()"
   ]
  },
  {
   "cell_type": "markdown",
   "metadata": {},
   "source": [
    "#### Step 2: Train/test split"
   ]
  },
  {
   "cell_type": "code",
   "execution_count": 36,
   "metadata": {},
   "outputs": [],
   "source": [
    "from sklearn.model_selection import train_test_split\n",
    "X_train, X_test, y_train, y_test = train_test_split(X, y, test_size=0.2, random_state=42, stratify=y)"
   ]
  },
  {
   "cell_type": "markdown",
   "metadata": {},
   "source": [
    "#### Step 3: Fit a logistic regression model"
   ]
  },
  {
   "cell_type": "code",
   "execution_count": 37,
   "metadata": {},
   "outputs": [
    {
     "name": "stderr",
     "output_type": "stream",
     "text": [
      "C:\\Users\\asus\\Anaconda2\\envs\\ipykernel_py3\\lib\\site-packages\\sklearn\\linear_model\\logistic.py:432: FutureWarning: Default solver will be changed to 'lbfgs' in 0.22. Specify a solver to silence this warning.\n",
      "  FutureWarning)\n"
     ]
    }
   ],
   "source": [
    "from sklearn.linear_model import LogisticRegression\n",
    "# Since this is an imbalanced dataset, setting class_weight='balanced' will give us a better result\n",
    "# http://scikit-learn.org/stable/modules/generated/sklearn.linear_model.LogisticRegression.html\n",
    "LR = LogisticRegression(class_weight='balanced')\n",
    "LR.fit(X_train, y_train)\n",
    "y_predict = LR.predict(X_test)"
   ]
  },
  {
   "cell_type": "markdown",
   "metadata": {},
   "source": [
    "#### Step 4: Evaluate your logistic regression model"
   ]
  },
  {
   "cell_type": "code",
   "execution_count": 38,
   "metadata": {},
   "outputs": [
    {
     "data": {
      "text/plain": [
       "array([[7139, 2675],\n",
       "       [ 141,  303]], dtype=int64)"
      ]
     },
     "execution_count": 38,
     "metadata": {},
     "output_type": "execute_result"
    }
   ],
   "source": [
    "from sklearn.metrics import confusion_matrix, roc_auc_score\n",
    "confusion_matrix(y_test, y_predict)"
   ]
  },
  {
   "cell_type": "code",
   "execution_count": 39,
   "metadata": {},
   "outputs": [
    {
     "data": {
      "text/plain": [
       "0.7049313170925153"
      ]
     },
     "execution_count": 39,
     "metadata": {},
     "output_type": "execute_result"
    }
   ],
   "source": [
    "# This is an imbalanced dataset so I would achieve more than 95% accuracy rate even if I always predict 'No'. \n",
    "# In this case, accuracy is not a good metric. ROC curve or F1 score works better for this task.\n",
    "roc_auc_score(y_test, y_predict)"
   ]
  },
  {
   "cell_type": "markdown",
   "metadata": {},
   "source": [
    "#### Step 5: Fit a random forest model"
   ]
  },
  {
   "cell_type": "code",
   "execution_count": 43,
   "metadata": {},
   "outputs": [],
   "source": [
    "from sklearn.ensemble import RandomForestClassifier\n",
    "rf = RandomForestClassifier(n_estimators=1000, max_depth=9, class_weight='balanced', n_jobs=-1)\n",
    "rf.fit(X_train, y_train)\n",
    "y_predict = rf.predict(X_test)"
   ]
  },
  {
   "cell_type": "markdown",
   "metadata": {},
   "source": [
    "#### Step 6: Evaluate your random forest model"
   ]
  },
  {
   "cell_type": "code",
   "execution_count": 41,
   "metadata": {},
   "outputs": [
    {
     "data": {
      "text/plain": [
       "array([[5055, 4759],\n",
       "       [  49,  395]], dtype=int64)"
      ]
     },
     "execution_count": 41,
     "metadata": {},
     "output_type": "execute_result"
    }
   ],
   "source": [
    "confusion_matrix(y_test, y_predict)"
   ]
  },
  {
   "cell_type": "code",
   "execution_count": 42,
   "metadata": {},
   "outputs": [
    {
     "data": {
      "text/plain": [
       "0.7023600684442339"
      ]
     },
     "execution_count": 42,
     "metadata": {},
     "output_type": "execute_result"
    }
   ],
   "source": [
    "roc_auc_score(y_test, y_predict)"
   ]
  },
  {
   "cell_type": "markdown",
   "metadata": {},
   "source": [
    "- Now you have multiple models, which one would you pick? \n",
    "- Can you get any clue from the confusion matrix? What is the meaning of precision and recall in this case?\n",
    "- How will your model help the manager make decisions? \n",
    "- It really depends your understanding of the business model. For example, if I find a product that has a high probability that will get returned, I would recommend my manager to put it on final sale so the customer get it for a lower price but they are not allowed to return the product. However, if the product turned out to be just fine and we are losing profit because we give it a discount. In that case, I would prefer a model that has a relatively good accuracy with better precision (lower Type I error). "
   ]
  },
  {
   "cell_type": "markdown",
   "metadata": {},
   "source": [
    "### Problem 6:\n",
    "Is there anything wrong with the feature engineering process? How should we fix it?"
   ]
  },
  {
   "cell_type": "markdown",
   "metadata": {},
   "source": [
    "- The `Return.Times` feature was wrong. If we want to use training data set to fit a model and test dataset to test a model, we assume test dataset is new data we get after fitting the model. But using the whole dataset to count the times will actually indicate these items will be returned in the test dataset. That's why the process is invalid.\n",
    "\n",
    "- The easiest way to fix the problem is to split the train and test set by different timespan. You can use 2012-2014 data for training and 2015 data as testing. It will mimic the same scenario in real life: **you don't know what's going to happen in the future :)**\n",
    "\n",
    "- A great [blog post](http://www.fast.ai/2017/11/13/validation-sets/) from fast.ai discussing this problem."
   ]
  },
  {
   "cell_type": "code",
   "execution_count": null,
   "metadata": {
    "collapsed": true
   },
   "outputs": [],
   "source": []
  }
 ],
 "metadata": {
  "kernelspec": {
   "display_name": "Python 3",
   "language": "python",
   "name": "python3"
  },
  "language_info": {
   "codemirror_mode": {
    "name": "ipython",
    "version": 3
   },
   "file_extension": ".py",
   "mimetype": "text/x-python",
   "name": "python",
   "nbconvert_exporter": "python",
   "pygments_lexer": "ipython3",
   "version": "3.7.0"
  }
 },
 "nbformat": 4,
 "nbformat_minor": 2
}
